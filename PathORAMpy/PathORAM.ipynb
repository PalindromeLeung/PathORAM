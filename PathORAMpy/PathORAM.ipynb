{
  "cells": [
    {
      "cell_type": "code",
      "execution_count": 33,
      "metadata": {
        "colab": {
          "base_uri": "https://localhost:8080/"
        },
        "id": "w5H11CVL-4nX",
        "outputId": "dd24dfbb-2921-4cb0-df71-2f2fb82b0c97"
      },
      "outputs": [],
      "source": [
        "# Path ORAM \n",
        "\n",
        "from collections import defaultdict, deque, Counter\n",
        "from enum import Enum \n",
        "from turtle import update\n",
        "import random\n",
        "import string\n",
        "\n",
        "\n",
        "# Pure\n",
        "class Node(object): \n",
        "\n",
        "\tdef __init__(self, ary, idx, left, right): \n",
        "\t\tself.val = ary\n",
        "\t\tself.idx = idx\n",
        "\t\tself.left = left \n",
        "\t\tself.right = right\n",
        "\t\t\n",
        "\tdef __repr__(self):\n",
        "\t\treturn f\"({self.idx},{self.val},{self.left},{self.right})\""
      ]
    },
    {
      "cell_type": "code",
      "execution_count": 34,
      "metadata": {},
      "outputs": [],
      "source": [
        "# Pure \n",
        "\n",
        "def buildingPBTLevelOrder_helper(root, nodeidx, queue):\n",
        "    '''\n",
        "    helper function that build a perfect binary tree by level order \n",
        "    Input: root and node id\n",
        "    output: root of a tree that is level ordered \n",
        "    '''\n",
        "    nNode = Node([], nodeidx, None, None) \n",
        "    if queue: \n",
        "        currNode = queue[0]\n",
        "    \n",
        "    if root is None:\n",
        "        root = nNode\n",
        "    \n",
        "    elif currNode.left == None:\n",
        "        currNode.left = nNode\n",
        "    \n",
        "    elif currNode.right == None:\n",
        "        currNode.right = nNode\n",
        "        queue.popleft()\n",
        "\n",
        "    queue.append(nNode)\n",
        "    return root\n"
      ]
    },
    {
      "cell_type": "code",
      "execution_count": 35,
      "metadata": {},
      "outputs": [
        {
          "data": {
            "text/plain": [
              "'(0,[],(1,[],(3,[],(7,[],None,None),(8,[],None,None)),(4,[],(9,[],None,None),(10,[],None,None))),(2,[],(5,[],(11,[],None,None),(12,[],None,None)),(6,[],(13,[],None,None),(14,[],None,None))))'"
            ]
          },
          "execution_count": 35,
          "metadata": {},
          "output_type": "execute_result"
        }
      ],
      "source": [
        "# constructing a simple binary tree\n",
        "# actually each of the int in the arrary should be a pointer to a block of size B\n",
        "#    0    l0\n",
        "#   /\\\n",
        "#  1  2   l1\n",
        "#  /\\ /\\\n",
        "# 3 4 5 6 l2\n",
        "\n",
        "def buildingPBTLevelOrder(root, lst):\n",
        "    Q = deque()\n",
        "    for elem in lst:\n",
        "        root = buildingPBTLevelOrder_helper(root, elem, Q)\n",
        "    return root\n",
        "\n",
        "# Pure\n",
        "rt = buildingPBTLevelOrder(None, range(pow(2, 4)-1))\n",
        "rt.__repr__()"
      ]
    },
    {
      "cell_type": "code",
      "execution_count": 36,
      "metadata": {},
      "outputs": [
        {
          "data": {
            "text/plain": [
              "'(0,[],(1,[],(3,[],None,None),(4,[],None,None)),(2,[],(5,[],None,None),(6,[],None,None)))'"
            ]
          },
          "execution_count": 36,
          "metadata": {},
          "output_type": "execute_result"
        }
      ],
      "source": [
        "rt2 = buildingPBTLevelOrder(None, range(pow(2, 2)-1))\n",
        "rt2.__repr__()\n",
        "rt3 = buildingPBTLevelOrder(None, range(pow(2 ,3)-1))\n",
        "rt3.__repr__()"
      ]
    },
    {
      "cell_type": "code",
      "execution_count": 37,
      "metadata": {},
      "outputs": [],
      "source": [
        "# Pure \n",
        "def buildNodeLevelDict(root, dct, currlevel):\n",
        "    ''' \n",
        "    Build a dictionary that tracks nodes and their associated ids \n",
        "    Input: root of a binary tree, dictionary to accumulate the entries of pair (node id, level) \n",
        "    Output: the dictionary that has all (node id, level) of the tree\n",
        "    '''\n",
        "    if not root:\n",
        "        return None\n",
        "    \n",
        "    dct[root.idx] = currlevel\n",
        "\n",
        "    nextlevel = currlevel + 1 \n",
        "    buildNodeLevelDict(root.left, dct, nextlevel)\n",
        "    buildNodeLevelDict(root.right, dct, nextlevel)\n",
        "\n",
        "    return dct \n",
        "\n",
        "levelDict = buildNodeLevelDict(rt, {}, 0)    "
      ]
    },
    {
      "cell_type": "code",
      "execution_count": 38,
      "metadata": {
        "id": "-XwDMKgw_C1O"
      },
      "outputs": [],
      "source": [
        "# Pure \n",
        "def getHeight(root):\n",
        "\t'''\n",
        "\tAssumption: the given tree is a binary tree \n",
        "\tInput: the root node of a tree \n",
        "\tOutput: the height of the tree \n",
        "\t'''\n",
        "\tif not root: \n",
        "\t\treturn 0 \n",
        "\n",
        "\tleftHeight = getHeight(root.left)\n",
        "\trightHeight = getHeight(root.right) \n",
        "\n",
        "\treturn max(leftHeight, rightHeight) + 1 "
      ]
    },
    {
      "cell_type": "code",
      "execution_count": 39,
      "metadata": {
        "id": "GcQZU9n-_Mq0"
      },
      "outputs": [],
      "source": [
        "# Global set up \n",
        "N = 28 \n",
        "\n",
        "# Z numbers of blocks within each bucket\n",
        "Z = 4 \n",
        "StashInit = []\n",
        "LEVELS = getHeight(rt) \n",
        "\n",
        "# Not Sure \n",
        "random.seed(11)\n",
        "position = defaultdict(int, {k:random.randrange(0, (pow(2, LEVELS) - 1)) for k in range(1,N+1)})\n",
        "\n",
        "Operator = ['rd', 'wr']\n",
        "\n",
        "# Pure \n",
        "sorted_pos = defaultdict(list)\n",
        "\n",
        "# Pure \n",
        "for key,val in position.items():\n",
        "    sorted_pos[val].append(key)\n",
        "    "
      ]
    },
    {
      "cell_type": "code",
      "execution_count": 40,
      "metadata": {
        "colab": {
          "base_uri": "https://localhost:8080/"
        },
        "id": "2cf8W5VW2uor",
        "outputId": "171b79e9-5d89-495b-ee77-be9f9d3fb9f6"
      },
      "outputs": [
        {
          "name": "stdout",
          "output_type": "stream",
          "text": [
            "defaultdict(<class 'int'>, {1: 7, 2: 13, 3: 8, 4: 13, 5: 14, 6: 12, 7: 7, 8: 7, 9: 8, 10: 13, 11: 9, 12: 3, 13: 2, 14: 12, 15: 8, 16: 7, 17: 10, 18: 9, 19: 12, 20: 2, 21: 1, 22: 7, 23: 4, 24: 2, 25: 1, 26: 8, 27: 12, 28: 14})\n",
            "defaultdict(<class 'list'>, {7: [1, 7, 8, 16, 22], 13: [2, 4, 10], 8: [3, 9, 15, 26], 14: [5, 28], 12: [6, 14, 19, 27], 9: [11, 18], 3: [12], 2: [13, 20, 24], 10: [17], 1: [21, 25], 4: [23]})\n"
          ]
        }
      ],
      "source": [
        "print(position)\n",
        "print(sorted_pos)"
      ]
    },
    {
      "cell_type": "code",
      "execution_count": 41,
      "metadata": {},
      "outputs": [],
      "source": [
        "# Pure \n",
        "def concatStash(stsh, anotherL):\n",
        "    '''\n",
        "    concantenate another list of (block id, data) to the stash\n",
        "    Input: original stash, and another list \n",
        "    Output: new stash with another list concantenated to it\n",
        "    '''\n",
        "    for i in anotherL:\n",
        "        stsh.append(i)\n",
        "    return None "
      ]
    },
    {
      "cell_type": "code",
      "execution_count": 42,
      "metadata": {},
      "outputs": [
        {
          "name": "stdout",
          "output_type": "stream",
          "text": [
            "[('', 22)]\n"
          ]
        }
      ],
      "source": [
        "# Pure \n",
        "def initialize_tree(root, stsh):\n",
        "    '''\n",
        "    initialize the tree based on the position map initialization \n",
        "    Input: root of a tree and a stash \n",
        "    Output: initialized tree, for each node in the tree, it holds Z number of blocks (data, blockid) and the rest of the blocks go into to the stash \n",
        "    '''\n",
        "    if root is None:\n",
        "        return None \n",
        "\n",
        "    data_ = [(\"\", x) for x in sorted_pos[root.idx]]\n",
        "    data = data_[:Z]\n",
        "    concatStash(stsh, data_[Z:])\n",
        "    \n",
        "    root.val = data \n",
        "    initialize_tree(root.left, stsh)\n",
        "    initialize_tree(root.right, stsh)\n",
        "    return None\n",
        "\n",
        "initialize_tree(rt, StashInit)\n",
        "print(StashInit)"
      ]
    },
    {
      "cell_type": "code",
      "execution_count": 43,
      "metadata": {
        "id": "HCxk1etDAdih"
      },
      "outputs": [],
      "source": [
        "# Pure \n",
        "def getPath(root, NodeId): \n",
        "\t'''\n",
        "\tInput: root(root) node, and leaf node(NodeId)\n",
        "\tOutput: all nodes along the path from leaf node to root node. \n",
        "\t'''\n",
        "\tif not root:\n",
        "\t\treturn []\n",
        "\t\n",
        "\tif root.idx == NodeId:\n",
        "\t\treturn [(root.idx, root.val)] \t\t\n",
        "\n",
        "\tleftPath = getPath(root.left, NodeId) \n",
        "\trightPath = getPath(root.right, NodeId)\n",
        " \n",
        "\tif leftPath:\n",
        "\t\treturn leftPath +  [(root.idx, root.val)]\n",
        "\tif rightPath: \n",
        "\t\treturn rightPath + [(root.idx, root.val)]\n",
        "\t\t\n",
        "\treturn []"
      ]
    },
    {
      "cell_type": "code",
      "execution_count": 44,
      "metadata": {},
      "outputs": [],
      "source": [
        "# Pure \n",
        "def clearPath(root, leafId): \n",
        "    '''\n",
        "    remove all blocks of nodes along the path from leaf to the root\n",
        "    Input: root of a tree \n",
        "    Output: updated tree with no blocks on the path from given leaf to root\n",
        "    '''\n",
        "    if not root: \n",
        "        return False  \n",
        "        \n",
        "    temp = root.val\n",
        "    root.val = []\n",
        "    if root.idx == leafId: \n",
        "        return True  \n",
        "    \n",
        "    lp = clearPath(root.left, leafId)\n",
        "    rp  = clearPath(root.right, leafId)\n",
        "    \n",
        "    if lp or rp: \n",
        "        return True \n",
        "    \n",
        "    root.val = temp\n",
        "    return False \n"
      ]
    },
    {
      "cell_type": "code",
      "execution_count": 45,
      "metadata": {
        "colab": {
          "base_uri": "https://localhost:8080/",
          "height": 163
        },
        "id": "hDLsQv-Q_oUv",
        "outputId": "117c43d0-8477-41da-aa1a-10ff6370f4e5"
      },
      "outputs": [],
      "source": [
        "# Pure and unused\n",
        "def getDataOfBlock(root, blockId):\n",
        "  ''' \n",
        "  Get the data associated with a block ID in a given tree\n",
        "  Input: root of a tree and a block ID\n",
        "  Output: the data associated with the block ID \n",
        "  '''\n",
        "  if root is not None:\n",
        "    print(\"root val is {}\".format(root.val))\n",
        "    for elem in iter(root.val):\n",
        "      if elem[1] == blockId:\n",
        "        return elem[0]\n",
        "\n",
        "    lres = getDataOfBlock(root.left, blockId)\n",
        "    if lres is not None: \n",
        "      return lres \n",
        "\n",
        "    rres = getDataOfBlock(root.right, blockId)\n",
        "    if rres is not None:\n",
        "      return rres"
      ]
    },
    {
      "cell_type": "code",
      "execution_count": 46,
      "metadata": {},
      "outputs": [],
      "source": [
        "# Pure \n",
        "def readBlockFromStsh(stsh, blockID):\n",
        "    '''\n",
        "    get the value associated with a give block id from the stash \n",
        "    Input: a stash that has a collection of pair (data, blockid), and a given block\n",
        "    Ouput: the value associate with a given blockID \n",
        "    '''\n",
        "    if stsh is None: \n",
        "        return None \n",
        "    for elem in stsh:\n",
        "        if elem[1] == blockID:\n",
        "            return elem[0]"
      ]
    },
    {
      "cell_type": "code",
      "execution_count": 47,
      "metadata": {
        "id": "2NdIzMLqyVOl"
      },
      "outputs": [],
      "source": [
        "# Pure \n",
        "def getNodeAtLevel(root, leafidx, level):\n",
        "  '''\n",
        "  get a node at a given level\n",
        "  Input: the root of a tree, the leaf node index, a specific level\n",
        "  Output: the node along the path from a given leaf node to root node at the given level \n",
        "  '''\n",
        "  path = getPath(root, leafidx)\n",
        "  path_len = len(path)\n",
        "  if level > path_len - 1:\n",
        "    return None\n",
        "  return path[path_len-level-1]"
      ]
    },
    {
      "cell_type": "code",
      "execution_count": 48,
      "metadata": {},
      "outputs": [],
      "source": [
        "# Pure \n",
        "def ReadnPopNodes(root, leaf, stsh):\n",
        "    '''\n",
        "    read all of the (block, data) pair along the path from a leaf node to the root node\n",
        "    Input: the root of a tree, a leaf node, and a stash \n",
        "    Output: the updated stash and the updated tree\n",
        "    Thoughts: consider merging getPath() and clearPath() to be the same function since they share the same recursion function. \n",
        "    '''\n",
        "    for l in range(LEVELS):\n",
        "        nd = getNodeAtLevel(root, leaf, l)\n",
        "        if nd is not None:\n",
        "            datum = nd[1] \n",
        "            for elem in datum: \n",
        "                stsh.append(elem)\n",
        "  \n",
        "    clearPath(root, leaf)\n",
        "    return stsh"
      ]
    },
    {
      "cell_type": "code",
      "execution_count": 49,
      "metadata": {
        "id": "BR3z5PWbL4TA"
      },
      "outputs": [],
      "source": [
        "# Pure \n",
        "def getCandidateBlocksHelper(root, leaf, blockID, level, stsh): \n",
        "\t'''\n",
        "\thelper function for finding all candidate blocks that satisfy the criteria P(x,l) = P(position[a'],l)\n",
        "\tInput: a root of a binary tree, a leaf node id, a block id, a level, and a stash\n",
        "\tOutput: (node.val, node.idx)\n",
        "\t'''\n",
        "\tlhs = getNodeAtLevel(root, leaf, level)\n",
        "\trhs = getNodeAtLevel(root, position[blockID], level)\n",
        "\tif lhs is not None and rhs is not None:\n",
        "\t\tif lhs == rhs:\n",
        "\t\t\tdata = readBlockFromStsh(stsh, blockID)\n",
        "\t\t\tres = (data, blockID)\n",
        "\t\t\treturn res\n",
        "\t\telse:\n",
        "\t\t\treturn None \n",
        "\treturn None"
      ]
    },
    {
      "cell_type": "code",
      "execution_count": 50,
      "metadata": {},
      "outputs": [],
      "source": [
        "# Pure \n",
        "def getCandidateBlocks(root, leaf, level, stsh):\n",
        "    '''\n",
        "    find all candidate blocks that satisfy the criteria P(x,l) = P(position[a'],l)\n",
        "    Input: a root of a binary tree, a leaf node id, a level, and a stash \n",
        "    Output: all candidate blocks\n",
        "    '''\n",
        "    acc = []\n",
        "    for elem in stsh:\n",
        "        blocks = getCandidateBlocksHelper(root, leaf, elem[1], level, stsh)\n",
        "        acc.append(blocks)\n",
        "    res = [x for x in acc if x is not None]\n",
        "    return res"
      ]
    },
    {
      "cell_type": "code",
      "execution_count": 51,
      "metadata": {},
      "outputs": [],
      "source": [
        "# Pure reconstructing the tree with new data associated with a certain node denoted by the leafidx and the level\n",
        "def writeBackNodes(root, leafIdx, tgtlevel, data):\n",
        "    '''\n",
        "    implementation of WriteBucket(P(x,l), S') in the paper \n",
        "    Input: root of a binary tree, leaf id, target level of the write, and new data to write to the node\n",
        "    Output: None\n",
        "    '''\n",
        "    if not root:\n",
        "        return False \n",
        "    \n",
        "    temp = root.val \n",
        "    if levelDict[root.idx] == tgtlevel: \n",
        "        root.val = data\n",
        "    \n",
        "    if root.idx == leafIdx:\n",
        "        return True\n",
        "    \n",
        "    lb = writeBackNodes(root.left, leafIdx, tgtlevel, data)\n",
        "    rb = writeBackNodes(root.right, leafIdx, tgtlevel, data)\n",
        "\n",
        "    if lb or rb: \n",
        "        return True\n",
        "\n",
        "    root.val = temp \n",
        "    return False\n"
      ]
    },
    {
      "cell_type": "code",
      "execution_count": 52,
      "metadata": {},
      "outputs": [],
      "source": [
        "# Pure \n",
        "def updateStash(blockID, dataN, stsh):\n",
        "    '''\n",
        "    update the data associated with block id with dataN in the stash \n",
        "    Input: block id, new data associated with the block id, and a stash \n",
        "    Output: updated stash \n",
        "    '''\n",
        "    blockIndex = -1\n",
        "    for (idx, pair) in enumerate(stsh):\n",
        "        temp = list(pair)\n",
        "        if temp[1] == blockID:\n",
        "            blockIndex = idx \n",
        "    assert blockIndex != -1, \"leafid not found in tree\"\n",
        "    stsh[blockIndex] = (dataN, blockID)\n"
      ]
    },
    {
      "cell_type": "code",
      "execution_count": 53,
      "metadata": {},
      "outputs": [],
      "source": [
        "# Pure \n",
        "def popStash(stsh, items):\n",
        "    '''\n",
        "    remove all pairs (data, blockid) from items list\n",
        "    Input: STASH, and list of pairs to be popped \n",
        "    Output: updated STASH \n",
        "    '''\n",
        "    popIds = [] \n",
        "    for item in items:\n",
        "        popIds.append(item[1])\n",
        "    updatedSTASH = [x for x in stsh if x[1] not in popIds]\n",
        "    return updatedSTASH"
      ]
    },
    {
      "cell_type": "code",
      "execution_count": 54,
      "metadata": {},
      "outputs": [],
      "source": [
        "# Pure \n",
        "def getBlockIdsFromLst(lst):\n",
        "    '''\n",
        "    return all the block ids in a list\n",
        "    Input: list of pair (data, blockid)\n",
        "    Output: all block ids in a list\n",
        "    '''\n",
        "    return [x[1] for x in lst]"
      ]
    },
    {
      "cell_type": "code",
      "execution_count": 55,
      "metadata": {},
      "outputs": [],
      "source": [
        "# Pure \n",
        "def getWriteBackBlocks(root, leafIdx, l, stsh):\n",
        "    if len(stsh) != 0:\n",
        "        candidateBlocks = getCandidateBlocks(root, leafIdx, l, stsh)\n",
        "        if (len(candidateBlocks) >= Z):\n",
        "            writeBackSize = Z\n",
        "        else:\n",
        "            writeBackSize = len(candidateBlocks)\n",
        "    else:\n",
        "        candidateBlocks = []\n",
        "        writeBackSize = 0\n",
        "    return candidateBlocks[:writeBackSize]"
      ]
    },
    {
      "cell_type": "code",
      "execution_count": 56,
      "metadata": {},
      "outputs": [],
      "source": [
        "def WriteToStash(Op, bId, dN, stsh):\n",
        "    if Op == \"wr\":\n",
        "        updateStash(bId, dN, stsh)\n",
        "    return "
      ]
    },
    {
      "cell_type": "code",
      "execution_count": 57,
      "metadata": {
        "id": "ljtKCTZn_QSL"
      },
      "outputs": [],
      "source": [
        "def access(root, opCode, blockId, dataNew=None): \n",
        "\t'''\n",
        "\tAccess algorithm in paper Path ORAM \n",
        "\tInput: root of a binary tree, operation code, either rd or wr, block id, and if the operation code is wr, dataNew is the new data to be written to the ram, otherwise, left None\n",
        "\tOutput: If the operation code is read, there is no output, but if the operation is write, it returns the previous data associated with the block before writing \n",
        "\t'''\n",
        "\tleafIdx = position[blockId] # let binding \n",
        "\tposition[blockId] = random.randrange(0, (pow(2, LEVELS) - 1)) # let binding \n",
        "\tglobal StashInit # side effects \n",
        "\tStashInit = ReadnPopNodes(root, leafIdx, StashInit) # Pure \n",
        "\n",
        "\tassert blockId in getBlockIdsFromLst(StashInit),\"invariant not upheld!\" # assertion ==> theorem\n",
        "\n",
        "\tdataOld = readBlockFromStsh(StashInit, blockId) # Pure essentially an look up \n",
        "\n",
        "\tWriteToStash(opCode, blockId, dataNew, StashInit) # Pure \n",
        "\n",
        "\tfor l in reversed(range(LEVELS)):\t\t\n",
        "\t\twriteBackBlocks = getWriteBackBlocks(root, leafIdx, l, StashInit) # Pure \n",
        "\t\tupdatedSTASH = popStash(StashInit, writeBackBlocks) # Pure \n",
        "\t\tStashInit = updatedSTASH # side effects \n",
        "\t\twriteBackNodes(root, leafIdx, l, writeBackBlocks) # Pure \n",
        "\treturn (dataOld, position[blockId])\n",
        "\t"
      ]
    },
    {
      "cell_type": "code",
      "execution_count": 58,
      "metadata": {},
      "outputs": [
        {
          "name": "stdout",
          "output_type": "stream",
          "text": [
            "4\n"
          ]
        }
      ],
      "source": [
        "print(LEVELS)"
      ]
    },
    {
      "cell_type": "markdown",
      "metadata": {},
      "source": []
    },
    {
      "cell_type": "markdown",
      "metadata": {},
      "source": [
        "Development notes:\n",
        "*1 inspect the STASH \n",
        "*2 inspect why there are \"None\"s in the STASH after initialization\n",
        "*2 automate the testing \n",
        "    - record the sequence (accessIdx, treeRoot, Op, blockId, dataN)\n",
        "    - parameterized by N "
      ]
    },
    {
      "cell_type": "code",
      "execution_count": 59,
      "metadata": {},
      "outputs": [
        {
          "name": "stdout",
          "output_type": "stream",
          "text": [
            "True\n"
          ]
        }
      ],
      "source": [
        "def validRAM(testN, root):\n",
        "    restot = []\n",
        "    for i in range(testN):\n",
        "        randBlockId = random.randrange(1,N+1)\n",
        "        dataN = random.choice(string.ascii_letters)\n",
        "        dataO = access(root, 'wr', randBlockId, dataN)\n",
        "        dataR = access(root, 'rd', randBlockId, )[0]\n",
        "        restot.append(dataN == dataR)\n",
        "\n",
        "    if all(restot):\n",
        "        print(all(restot))\n",
        "validRAM(60,rt)"
      ]
    },
    {
      "cell_type": "markdown",
      "metadata": {},
      "source": [
        "assertions \n",
        "weakened version of the main invariant: assert it as either the block lives in the path or the stash. "
      ]
    },
    {
      "cell_type": "code",
      "execution_count": 60,
      "metadata": {},
      "outputs": [],
      "source": [
        "def access_new(root, opCode, blockId, dataNew=None): \n",
        "\t'''\n",
        "\tAccess algorithm in paper Path ORAM \n",
        "\tInput: root of a binary tree, operation code, either rd or wr, block id, and if the operation code is wr, dataNew is the new data to be written to the ram, otherwise, left None\n",
        "\tOutput: If the operation code is read, there is no output, but if the operation is write, it returns the previous data associated with the block before writing \n",
        "\t'''\n",
        "\tleafIdx = position[blockId] # let binding \n",
        "\tposition[blockId] = random.randrange((pow(2, LEVELS - 1) - 1), (pow(2, LEVELS) - 1)) # let binding  \n",
        "\tglobal StashInit # side effects \n",
        "\tStashInit = ReadnPopNodes(root, leafIdx, StashInit) # Pure \n",
        "\n",
        "\tassert blockId in getBlockIdsFromLst(StashInit),\"invariant not upheld!\" # assertion ==> theorem\n",
        "\n",
        "\tdataOld = readBlockFromStsh(StashInit, blockId) # Pure essentially an look up \n",
        "\n",
        "\tWriteToStash(opCode, blockId, dataNew, StashInit) # Pure \n",
        "\n",
        "\tfor l in reversed(range(LEVELS)):\t\t\n",
        "\t\twriteBackBlocks = getWriteBackBlocks(root, leafIdx, l, StashInit) # Pure \n",
        "\t\tupdatedSTASH = popStash(StashInit, writeBackBlocks) # Pure \n",
        "\t\tStashInit = updatedSTASH # side effects \n",
        "\t\twriteBackNodes(root, leafIdx, l, writeBackBlocks) # Pure \n",
        "\treturn (dataOld, position[blockId])\n",
        "\t"
      ]
    },
    {
      "cell_type": "code",
      "execution_count": 70,
      "metadata": {},
      "outputs": [
        {
          "name": "stdout",
          "output_type": "stream",
          "text": [
            "Counter({10: 146, 14: 139, 11: 129, 12: 126, 9: 124, 13: 117, 8: 116, 7: 103})\n",
            "posMap distribution is\n",
            "{7: 0.103, 10: 0.146, 11: 0.129, 12: 0.126, 8: 0.116, 13: 0.117, 9: 0.124, 14: 0.139}\n",
            "Uniform distribution is\n",
            "{0: 0.14285714285714285, 1: 0.14285714285714285, 2: 0.14285714285714285, 3: 0.14285714285714285, 4: 0.14285714285714285, 5: 0.14285714285714285, 6: 0.14285714285714285}\n"
          ]
        }
      ],
      "source": [
        "def revealPathDist(testN, root):\n",
        "    c = Counter() \n",
        "    for i in range(testN):\n",
        "        randBlockId = random.randrange(1,N+1)\n",
        "        dataN = random.choice(string.ascii_letters)\n",
        "        dataWr = access_new(root, 'wr', randBlockId, dataN)\n",
        "        c[dataWr[1]] += 1\n",
        "    return c\n",
        "freqC = revealPathDist(1000, rt) \n",
        "print(freqC)\n",
        "devisor = sum(freqC.values()) # 60 \n",
        "\n",
        "normFreqC = {k : (v / devisor) for k,v in freqC.items()}\n",
        "freqC_list = [(v / devisor) for k,v in freqC.items()]\n",
        "normalDist = {k : (1 / (pow(2, LEVELS - 1) - 1)) for k, v in enumerate(range(pow(2, LEVELS - 1) - 1))}\n",
        "normDist_list = [1 / (pow(2, LEVELS - 1) - 1)] * (pow(2, LEVELS - 1) )\n",
        "print(\"posMap distribution is\")\n",
        "print(normFreqC)\n",
        "print(\"Uniform distribution is\")\n",
        "print(normalDist)\n"
      ]
    },
    {
      "cell_type": "code",
      "execution_count": 68,
      "metadata": {},
      "outputs": [
        {
          "name": "stderr",
          "output_type": "stream",
          "text": [
            "No artists with labels found to put in legend.  Note that artists whose label start with an underscore are ignored when legend() is called with no argument.\n"
          ]
        },
        {
          "data": {
            "image/png": "[encoded data removed]",
            "text/plain": [
              "<Figure size 640x480 with 1 Axes>"
            ]
          },
          "metadata": {},
          "output_type": "display_data"
        }
      ],
      "source": [
        "import matplotlib.pyplot as plt \n",
        "import numpy as np \n",
        "\n",
        "bins = np.linspace(0, pow(2, LEVELS - 1) - 1, num = pow(2, (LEVELS - 1)))\n",
        "\n",
        "plt.bar(bins + 0.2, normDist_list, width = 0.2, align = 'center', alpha = 0.5)\n",
        "plt.bar(bins - 0.2, freqC_list, width = 0.2, align= 'center', alpha = 0.5)\n",
        "plt.xticks = (bins, bins)\n",
        "plt.ylabel = ('Freq')\n",
        "plt.legend(loc='upper right')\n",
        "plt.show()"
      ]
    },
    {
      "cell_type": "code",
      "execution_count": 74,
      "metadata": {},
      "outputs": [
        {
          "name": "stdout",
          "output_type": "stream",
          "text": [
            "0.15854449907480256\n"
          ]
        }
      ],
      "source": [
        "# KL-divergence \n",
        "import distance\n",
        "print(distance.kl_divergence(normDist_list, freqC_list))"
      ]
    }
  ],
  "metadata": {
    "colab": {
      "collapsed_sections": [],
      "provenance": []
    },
    "kernelspec": {
      "display_name": "Python 3.8.9 64-bit",
      "language": "python",
      "name": "python3"
    },
    "language_info": {
      "codemirror_mode": {
        "name": "ipython",
        "version": 3
      },
      "file_extension": ".py",
      "mimetype": "text/x-python",
      "name": "python",
      "nbconvert_exporter": "python",
      "pygments_lexer": "ipython3",
      "version": "3.9.6"
    },
    "vscode": {
      "interpreter": {
        "hash": "31f2aee4e71d21fbe5cf8b01ff0e069b9275f58929596ceb00d14d90e3e16cd6"
      }
    }
  },
  "nbformat": 4,
  "nbformat_minor": 0
}
