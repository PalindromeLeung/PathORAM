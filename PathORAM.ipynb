{
  "nbformat": 4,
  "nbformat_minor": 0,
  "metadata": {
    "colab": {
      "provenance": [],
      "collapsed_sections": []
    },
    "kernelspec": {
      "name": "python3",
      "display_name": "Python 3"
    },
    "language_info": {
      "name": "python"
    }
  },
  "cells": [
    {
      "cell_type": "code",
      "execution_count": null,
      "metadata": {
        "colab": {
          "base_uri": "https://localhost:8080/"
        },
        "id": "w5H11CVL-4nX",
        "outputId": "dd24dfbb-2921-4cb0-df71-2f2fb82b0c97"
      },
      "outputs": [
        {
          "output_type": "stream",
          "name": "stdout",
          "text": [
            "(0,[('', 0), ('', 0), ('', 0), ('', 0)],(1,[('', 0), ('', 0), ('', 0), ('', 0)],(3,[('a', 1), ('b', 2), ('c', 3), ('d', 4)],None,None),(4,[('e', 5), ('f', 6), ('g', 7), ('h', 8)],None,None)),(2,[('', 0), ('', 0), ('', 0), ('', 0)],(5,[('i', 9), ('j', 10), ('k', 11), ('l', 12)],None,None),(6,[('m', 13), ('n', 14), ('o', 15), ('p', 16)],None,None)))\n"
          ]
        }
      ],
      "source": [
        "# Path ORAM \n",
        "from collections import defaultdict, deque\n",
        "import random\n",
        "\n",
        "class Node(object): \n",
        "\tdef __init__(self, ary, idx, left, right): \n",
        "\t\tself.val = ary\n",
        "\t\tself.idx = idx\n",
        "\t\tself.left = left \n",
        "\t\tself.right = right\n",
        "\t\t\n",
        "\tdef __repr__(self):\n",
        "\t\treturn f\"({self.idx},{self.val},{self.left},{self.right})\"\n",
        "\n",
        "\n",
        "# constructing a simple binary tree\n",
        "# actually each of the int in the arrary should be a pointer to a block of size B\n",
        "#    0    l0\n",
        "#   /\\\n",
        "#  1  2   l1\n",
        "#  /\\ /\\\n",
        "# 3 4 5 6 l2\n",
        "\n",
        "n3 = Node([(\"a\", 1),(\"b\", 2),(\"c\", 3),(\"d\", 4)], 3, None, None) \n",
        "n4 = Node([(\"e\", 5),(\"f\", 6),(\"g\", 7),(\"h\", 8)], 4, None, None)\n",
        "n5 = Node([(\"i\", 9),(\"j\", 10),(\"k\", 11),(\"l\", 12)], 5, None, None)\n",
        "n6 = Node([(\"m\", 13),(\"n\", 14),(\"o\", 15),(\"p\", 16)], 6, None, None)\n",
        "\n",
        "n1 = Node([(\"\", 0),(\"\", 0),(\"\", 0),(\"\", 0)], 1, n3, n4)\n",
        "n2 = Node([(\"\", 0),(\"\", 0),(\"\", 0),(\"\", 0)], 2, n5, n6)\n",
        "\n",
        "n0 = Node([(\"\", 0),(\"\", 0),(\"\", 0),(\"\", 0)], 0, n1, n2)\n",
        "\n",
        "print(n0)"
      ]
    },
    {
      "cell_type": "code",
      "source": [
        "for i in range(4):\n",
        "  temp = []\n",
        "  for j in range(4):\n",
        "    temp.append(4 * i + 1 + j)\n",
        "  print(temp)"
      ],
      "metadata": {
        "colab": {
          "base_uri": "https://localhost:8080/"
        },
        "id": "hx7GIuoR8rVf",
        "outputId": "01d2a493-02b2-494b-e016-d1113b1d9258"
      },
      "execution_count": null,
      "outputs": [
        {
          "output_type": "stream",
          "name": "stdout",
          "text": [
            "[1, 2, 3, 4]\n",
            "[5, 6, 7, 8]\n",
            "[9, 10, 11, 12]\n",
            "[13, 14, 15, 16]\n"
          ]
        }
      ]
    },
    {
      "cell_type": "code",
      "source": [
        "def getHeight(root):\n",
        "\tif not root: \n",
        "\t\treturn 0 \n",
        "\n",
        "\tleftHeight = getHeight(root.left)\n",
        "\trightHeight = getHeight(root.right) \n",
        "\n",
        "\treturn max(leftHeight, rightHeight) + 1 "
      ],
      "metadata": {
        "id": "-XwDMKgw_C1O"
      },
      "execution_count": null,
      "outputs": []
    },
    {
      "cell_type": "code",
      "source": [
        "LEVELS = getHeight(n0)\n",
        "print(LEVELS)"
      ],
      "metadata": {
        "id": "8LWrmM5JTUis",
        "colab": {
          "base_uri": "https://localhost:8080/"
        },
        "outputId": "7fa3406b-b3bd-4066-855e-1f0074bea1c8"
      },
      "execution_count": null,
      "outputs": [
        {
          "output_type": "stream",
          "name": "stdout",
          "text": [
            "3\n"
          ]
        }
      ]
    },
    {
      "cell_type": "code",
      "source": [
        "N = 28 \n",
        "Z = 4 # Z numbers of blocks within each bucket\n",
        "STASH = []\n",
        "position = defaultdict(int, {k:random.randrange((pow(2, LEVELS - 1) - 1), (pow(2, LEVELS) - 1)) for k in range(N)})"
      ],
      "metadata": {
        "id": "GcQZU9n-_Mq0"
      },
      "execution_count": null,
      "outputs": []
    },
    {
      "cell_type": "code",
      "source": [
        "print(position)"
      ],
      "metadata": {
        "id": "2cf8W5VW2uor",
        "outputId": "171b79e9-5d89-495b-ee77-be9f9d3fb9f6",
        "colab": {
          "base_uri": "https://localhost:8080/"
        }
      },
      "execution_count": null,
      "outputs": [
        {
          "output_type": "stream",
          "name": "stdout",
          "text": [
            "defaultdict(<class 'int'>, {0: 3, 1: 4, 2: 6, 3: 5, 4: 3, 5: 4, 6: 6, 7: 4, 8: 6, 9: 5, 10: 3, 11: 5, 12: 5, 13: 5, 14: 6, 15: 5, 16: 3, 17: 6, 18: 3, 19: 6, 20: 5, 21: 3, 22: 4, 23: 3, 24: 5, 25: 5, 26: 4, 27: 3})\n"
          ]
        }
      ]
    },
    {
      "cell_type": "code",
      "source": [
        "# should I assume that this is a perfect btree? No \n",
        "def getPath(root, NodeId): \n",
        "\tif not root:\n",
        "\t\treturn []\n",
        "\t\n",
        "\tif root.idx == NodeId:\n",
        "\t\treturn [(root.idx, root.val)] \n",
        "\n",
        "\tleftPath = getPath(root.left, NodeId) \n",
        "\trightPath = getPath(root.right, NodeId)\n",
        " \n",
        "\tif leftPath:\n",
        "\t\treturn leftPath +  [(root.idx, root.val)]\n",
        "\tif rightPath: \n",
        "\t\treturn rightPath + [(root.idx, root.val)]\n",
        "\treturn []"
      ],
      "metadata": {
        "id": "HCxk1etDAdih"
      },
      "execution_count": null,
      "outputs": []
    },
    {
      "cell_type": "code",
      "source": [
        "print(getPath(n0, 6))"
      ],
      "metadata": {
        "id": "iTxRQu8CwuFq",
        "colab": {
          "base_uri": "https://localhost:8080/"
        },
        "outputId": "56d5e876-db45-42b7-b43b-70f06629b3c2"
      },
      "execution_count": null,
      "outputs": [
        {
          "output_type": "stream",
          "name": "stdout",
          "text": [
            "[(6, [('m', 13), ('n', 14), ('o', 15), ('p', 16)]), (2, [('', 0), ('', 0), ('', 0), ('', 0)]), (0, [('', 0), ('', 0), ('', 0), ('', 0)])]\n"
          ]
        }
      ]
    },
    {
      "cell_type": "code",
      "source": [
        "# P(x, l) = node\n",
        "def getNode(root, index, currlevel, tgtlevel): \n",
        "\tif root is None:\n",
        "\t\treturn None \n",
        "\n",
        "\tif root.idx == index and currlevel == tgtlevel: \n",
        "\t\treturn root \n",
        "\n",
        "\tnextlevel = currlevel + 1\n",
        "\n",
        "\tleftNode = getNode(root.left, index, nextlevel, tgtlevel)\n",
        "\tif leftNode is not None:\n",
        "\t\treturn leftNode\n",
        "\n",
        "\trightNode = getNode(root.right, index, nextlevel, tgtlevel)\n",
        "\tif rightNode is not None:\n",
        "\t\treturn rightNode\n",
        "\n",
        "\treturn None"
      ],
      "metadata": {
        "id": "6XAIwR_eAfLf"
      },
      "execution_count": null,
      "outputs": []
    },
    {
      "cell_type": "code",
      "source": [
        "print(n3.val[1][1])"
      ],
      "metadata": {
        "colab": {
          "base_uri": "https://localhost:8080/"
        },
        "id": "u9Io43WhBglF",
        "outputId": "cd156ca7-94b8-41c4-fe80-f8a1c04ce89d"
      },
      "execution_count": null,
      "outputs": [
        {
          "output_type": "stream",
          "name": "stdout",
          "text": [
            "2\n"
          ]
        }
      ]
    },
    {
      "cell_type": "code",
      "source": [
        "def getBlock(root, blockId):\n",
        "  if root is not None:\n",
        "    print(root.val)\n",
        "    for i in range(Z):\n",
        "      if(root.val):\n",
        "        if(root.val[i][1] == blockId):\n",
        "          return root.val[i][0]\n",
        "\n",
        "    lres = getBlock(root.left, blockId)\n",
        "    if lres is not None: \n",
        "      return lres \n",
        "\n",
        "    rres = getBlock(root.right, blockId)\n",
        "    if rres is not None:\n",
        "      return rres\n",
        "\n",
        "getBlock(n0,11)"
      ],
      "metadata": {
        "colab": {
          "base_uri": "https://localhost:8080/",
          "height": 163
        },
        "id": "hDLsQv-Q_oUv",
        "outputId": "117c43d0-8477-41da-aa1a-10ff6370f4e5"
      },
      "execution_count": null,
      "outputs": [
        {
          "output_type": "stream",
          "name": "stdout",
          "text": [
            "[('', 0), ('', 0), ('', 0), ('', 0)]\n",
            "[('', 0), ('', 0), ('', 0), ('', 0)]\n",
            "[('a', 1), ('b', 2), ('c', 3), ('d', 4)]\n",
            "[('e', 5), ('f', 6), ('g', 7), ('h', 8)]\n",
            "[('', 0), ('', 0), ('', 0), ('', 0)]\n",
            "[('i', 9), ('j', 10), ('k', 11), ('l', 12)]\n"
          ]
        },
        {
          "output_type": "execute_result",
          "data": {
            "text/plain": [
              "'k'"
            ],
            "application/vnd.google.colaboratory.intrinsic+json": {
              "type": "string"
            }
          },
          "metadata": {},
          "execution_count": 11
        }
      ]
    },
    {
      "cell_type": "code",
      "source": [
        "def getNodeAtLevel(root, leafidx, level):\n",
        "  path = getPath(root, leafidx) #[3,1,0] \n",
        "  return path[LEVELS-level-1]\n"
      ],
      "metadata": {
        "id": "2NdIzMLqyVOl"
      },
      "execution_count": null,
      "outputs": []
    },
    {
      "cell_type": "code",
      "source": [
        "def writeBackNodes(root, index, currlevel, tgtlevel, data):\n",
        "\tif root is None:\n",
        "\t\treturn None\n",
        "\n",
        "\tif root.idx == index and currlevel == tgtlevel:\n",
        "\t\tretVal = root.val \n",
        "\t\troot.val = data \n",
        "\t\treturn retVal\n",
        "\n",
        "\tnextlevel = currlevel + 1\n",
        "\n",
        "\tleftTree = writeBackNodes(root.left, index, nextlevel, tgtlevel, data)\n",
        "\tif leftTree: \n",
        "\t\treturn leftTree\n",
        "  \n",
        "\trightTree = writeBackNodes(root.right, index, nextlevel, tgtlevel, data)\n",
        "\tif rightTree:\n",
        "\t\treturn rightTree\n",
        "\n",
        "\treturn None  "
      ],
      "metadata": {
        "id": "vrg5ppTq_JBF"
      },
      "execution_count": null,
      "outputs": []
    },
    {
      "cell_type": "code",
      "source": [
        "def getCandidateBlocks(root, leaf, blockID, level): \n",
        "\t\t\t\t\t\t\t# root, index(leaf), curl lvl, tgt lvl\n",
        "\tlhs = getNodeAtLevel(root, leaf, level)\n",
        "\trhs = getNodeAtLevel(root, position[blockID], level)\n",
        " \n",
        "\tif lhs is not None and rhs is not None:\n",
        "\t\tif lhs == rhs:\n",
        "\t\t\treturn lhs\n",
        "\t\telse:\n",
        "\t\t\treturn None \n",
        "\treturn None"
      ],
      "metadata": {
        "id": "BR3z5PWbL4TA"
      },
      "execution_count": null,
      "outputs": []
    },
    {
      "cell_type": "code",
      "source": [
        "print(position[23])  \n",
        "tp0 = getCandidateBlocks(n0, 4, 23, 1)\n",
        "print(tp0)"
      ],
      "metadata": {
        "colab": {
          "base_uri": "https://localhost:8080/"
        },
        "id": "CaBLVkSjRuBi",
        "outputId": "2e2eb10c-7c4d-420c-e9a5-caa76974bdd2"
      },
      "execution_count": null,
      "outputs": [
        {
          "output_type": "stream",
          "name": "stdout",
          "text": [
            "3\n",
            "(1, [('', 0), ('', 0), ('', 0), ('', 0)])\n"
          ]
        }
      ]
    },
    {
      "cell_type": "code",
      "source": [
        "def access(root, opCode, blockId, dataNew): \n",
        "\tleafIdx = position[blockId]\n",
        "\tprint(\"23 maps to leaf\" + str(leafIdx))\n",
        "\tposition[blockId] = random.randrange((pow(2, LEVELS - 1) - 1), (pow(2, LEVELS) - 1))\n",
        "\t\n",
        "\tSTASH = getPath(root, leafIdx)\n",
        "\tprint(\"Current STASH is \")\n",
        "\tprint(STASH)\n",
        " \n",
        "\t# read block a from STASH\n",
        "\tdataOld = getBlock(root, blockId)\n",
        "\tprint(\"old data is \")\n",
        "\tprint(dataOld)\n",
        " \n",
        "\tif opCode == \"wr\": # assume blockId is in range or define the number of buckets\n",
        "\t\t# (check if the blockId is valid): do we assume a perfect binary tree? \n",
        "\t\t# STASH = [item for item in STASH if item not in [STASH[blockId]]]\n",
        "\t\tupdateNode = getNode(root, leafIdx, 0, LEVELS - 1)\n",
        "\t\tSTASH[0] = dataNew\n",
        " \n",
        "\t# write path \n",
        "\tfor l in reversed(range(LEVELS)):\n",
        "\t\t# insert additional blocks from the STASH to the path along the tree \n",
        "\t\tcandidateBlocks = []\n",
        "\t\tfor idb in range(N):\n",
        "\t\t\t\tcandidateBlocks.append(getCandidateBlocks(root, leafIdx, idb, l))\n",
        "\t\t# print(\"Candi Block at level l is\")\n",
        "\t\t# print(candidateBlocks)\n",
        "\t\n",
        "\t\tif (len(candidateBlocks) >= Z):\n",
        "\t\t\twriteBackSize = Z\n",
        "\t\telse:\n",
        "\t\t\twriteBackSize = len(candidateBlocks)\n",
        "\n",
        "\t\twriteBackBlocks = candidateBlocks[:writeBackSize]\n",
        "\t\tupdatedStash = candidateBlocks[writeBackSize:]\n",
        "\n",
        "\t\twriteBackNodes(root, leafIdx, 0, l, writeBackBlocks)\n",
        "\treturn dataOld\n",
        "\t"
      ],
      "metadata": {
        "id": "ljtKCTZn_QSL"
      },
      "execution_count": null,
      "outputs": []
    },
    {
      "cell_type": "code",
      "source": [
        "oldD = access(n0, \"wr\", 23, \"x\")\n",
        "print(oldD)"
      ],
      "metadata": {
        "colab": {
          "base_uri": "https://localhost:8080/"
        },
        "id": "rAT0BpH11G4T",
        "outputId": "069fa20a-cecd-4732-8d2e-a3a8c0bd9d46"
      },
      "execution_count": null,
      "outputs": [
        {
          "output_type": "stream",
          "name": "stdout",
          "text": [
            "Current STASH is \n",
            "[(6, [('m', 13), ('n', 14), ('o', 15), ('p', 16)]), (2, [('', 0), ('', 0), ('', 0), ('', 0)]), (0, [('', 0), ('', 0), ('', 0), ('', 0)])]\n",
            "[('', 0), ('', 0), ('', 0), ('', 0)]\n",
            "[('', 0), ('', 0), ('', 0), ('', 0)]\n",
            "[('a', 1), ('b', 2), ('c', 3), ('d', 4)]\n",
            "[('e', 5), ('f', 6), ('g', 7), ('h', 8)]\n",
            "[('', 0), ('', 0), ('', 0), ('', 0)]\n",
            "[('i', 9), ('j', 10), ('k', 11), ('l', 12)]\n",
            "[('m', 13), ('n', 14), ('o', 15), ('p', 16)]\n",
            "old data is \n",
            "None\n",
            "None\n"
          ]
        }
      ]
    }
  ]
}