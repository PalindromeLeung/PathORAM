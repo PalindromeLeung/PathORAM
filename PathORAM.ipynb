{
  "cells": [
    {
      "cell_type": "code",
      "execution_count": 1053,
      "metadata": {
        "colab": {
          "base_uri": "https://localhost:8080/"
        },
        "id": "w5H11CVL-4nX",
        "outputId": "dd24dfbb-2921-4cb0-df71-2f2fb82b0c97"
      },
      "outputs": [
        {
          "name": "stdout",
          "output_type": "stream",
          "text": [
            "(0,[],(1,[],(3,[],None,None),(4,[],None,None)),(2,[],(5,[],None,None),(6,[],None,None)))\n"
          ]
        }
      ],
      "source": [
        "# Path ORAM \n",
        "\n",
        "from collections import defaultdict, Counter\n",
        "import random\n",
        "\n",
        "class Node(object): \n",
        "\tdef __init__(self, ary, idx, left, right): \n",
        "\t\tself.val = ary\n",
        "\t\tself.idx = idx\n",
        "\t\tself.left = left \n",
        "\t\tself.right = right\n",
        "\t\t\n",
        "\tdef __repr__(self):\n",
        "\t\treturn f\"({self.idx},{self.val},{self.left},{self.right})\"\n",
        "\n",
        "\n",
        "# constructing a simple binary tree\n",
        "# actually each of the int in the arrary should be a pointer to a block of size B\n",
        "#    0    l0\n",
        "#   /\\\n",
        "#  1  2   l1\n",
        "#  /\\ /\\\n",
        "# 3 4 5 6 l2\n",
        "\n",
        "# n3 = Node([(\"\", 0),(\"\", 0),(\"\", 0),(\"\", 0)], 3, None, None) \n",
        "# n4 = Node([(\"\", 0),(\"\", 0),(\"\", 0),(\"\", 0)], 4, None, None)\n",
        "# n5 = Node([(\"\", 0),(\"\", 0),(\"\", 0),(\"\", 0)], 5, None, None)\n",
        "# n6 = Node([(\"\", 0),(\"\", 0),(\"\", 0),(\"\", 0)], 6, None, None)\n",
        "\n",
        "# n1 = Node([(\"\", 0),(\"\", 0),(\"\", 0),(\"\", 0)], 1, n3, n4)\n",
        "# n2 = Node([(\"\", 0),(\"\", 0),(\"\", 0),(\"\", 0)], 2, n5, n6)\n",
        "\n",
        "# n0 = Node([(\"\", 0),(\"\", 0),(\"\", 0),(\"\", 0)], 0, n1, n2)\n",
        "\n",
        "n3 = Node([], 3, None, None) \n",
        "n4 = Node([], 4, None, None)\n",
        "n5 = Node([], 5, None, None)\n",
        "n6 = Node([], 6, None, None)\n",
        "\n",
        "n1 = Node([], 1, n3, n4)\n",
        "n2 = Node([], 2, n5, n6)\n",
        "\n",
        "n0 = Node([], 0, n1, n2)\n",
        "\n",
        "print(n0)"
      ]
    },
    {
      "cell_type": "code",
      "execution_count": 1054,
      "metadata": {
        "id": "-XwDMKgw_C1O"
      },
      "outputs": [],
      "source": [
        "def getHeight(root):\n",
        "\t'''\n",
        "\tAssumption: the given tree is a binary tree \n",
        "\tInput: the root node of a tree \n",
        "\tOutput: the height of the tree \n",
        "\t'''\n",
        "\tif not root: \n",
        "\t\treturn 0 \n",
        "\n",
        "\tleftHeight = getHeight(root.left)\n",
        "\trightHeight = getHeight(root.right) \n",
        "\n",
        "\treturn max(leftHeight, rightHeight) + 1 "
      ]
    },
    {
      "cell_type": "code",
      "execution_count": 1055,
      "metadata": {
        "colab": {
          "base_uri": "https://localhost:8080/"
        },
        "id": "8LWrmM5JTUis",
        "outputId": "7fa3406b-b3bd-4066-855e-1f0074bea1c8"
      },
      "outputs": [
        {
          "name": "stdout",
          "output_type": "stream",
          "text": [
            "3\n"
          ]
        }
      ],
      "source": [
        "LEVELS = getHeight(n0)\n",
        "print(LEVELS)"
      ]
    },
    {
      "cell_type": "code",
      "execution_count": 1056,
      "metadata": {
        "id": "GcQZU9n-_Mq0"
      },
      "outputs": [],
      "source": [
        "# Global set up \n",
        "N = 28 \n",
        "Z = 4 # Z numbers of blocks within each bucket\n",
        "global STASH \n",
        "STASH = []\n",
        "random.seed(11)\n",
        "# position = defaultdict(int, {k:random.randrange((pow(2, LEVELS - 1) - 1), (pow(2, LEVELS) - 1)) for k in range(N)})\n",
        "position = defaultdict(int, {k:random.randrange(0, (pow(2, LEVELS) - 1)) for k in range(1,N+1)})\n",
        "\n",
        "# The hard coded tree does not match the position map \n",
        "sorted_pos = defaultdict(list)\n",
        "# {k : v if k in position else 0 for k,v in position.items()}\n",
        "\n",
        "for key,val in position.items():\n",
        "    sorted_pos[val].append(key)\n",
        "    "
      ]
    },
    {
      "cell_type": "code",
      "execution_count": 1057,
      "metadata": {
        "colab": {
          "base_uri": "https://localhost:8080/"
        },
        "id": "2cf8W5VW2uor",
        "outputId": "171b79e9-5d89-495b-ee77-be9f9d3fb9f6"
      },
      "outputs": [
        {
          "name": "stdout",
          "output_type": "stream",
          "text": [
            "defaultdict(<class 'int'>, {1: 3, 2: 6, 3: 4, 4: 6, 5: 6, 6: 3, 7: 3, 8: 4, 9: 6, 10: 4, 11: 1, 12: 1, 13: 6, 14: 4, 15: 3, 16: 5, 17: 4, 18: 6, 19: 1, 20: 0, 21: 3, 22: 2, 23: 1, 24: 0, 25: 4, 26: 6, 27: 5, 28: 5})\n",
            "defaultdict(<class 'list'>, {3: [1, 6, 7, 15, 21], 6: [2, 4, 5, 9, 13, 18, 26], 4: [3, 8, 10, 14, 17, 25], 1: [11, 12, 19, 23], 5: [16, 27, 28], 0: [20, 24], 2: [22]})\n"
          ]
        }
      ],
      "source": [
        "print(position)\n",
        "print(sorted_pos)"
      ]
    },
    {
      "cell_type": "code",
      "execution_count": 1058,
      "metadata": {},
      "outputs": [],
      "source": [
        "def concat_STASH(anotherL):\n",
        "    for i in anotherL:\n",
        "        STASH.append(i)\n",
        "    return None "
      ]
    },
    {
      "cell_type": "code",
      "execution_count": 1059,
      "metadata": {},
      "outputs": [
        {
          "name": "stdout",
          "output_type": "stream",
          "text": [
            "STASH is []\n",
            "STASH is []\n",
            "STASH is [('', 21)]\n",
            "STASH is [('', 21), ('', 17), ('', 25)]\n",
            "STASH is [('', 21), ('', 17), ('', 25)]\n",
            "STASH is [('', 21), ('', 17), ('', 25)]\n",
            "STASH is [('', 21), ('', 17), ('', 25), ('', 13), ('', 18), ('', 26)]\n"
          ]
        },
        {
          "data": {
            "text/plain": [
              "(0,[('', 20), ('', 24)],(1,[('', 11), ('', 12), ('', 19), ('', 23)],(3,[('', 1), ('', 6), ('', 7), ('', 15)],None,None),(4,[('', 3), ('', 8), ('', 10), ('', 14)],None,None)),(2,[('', 22)],(5,[('', 16), ('', 27), ('', 28)],None,None),(6,[('', 2), ('', 4), ('', 5), ('', 9)],None,None)))"
            ]
          },
          "execution_count": 1059,
          "metadata": {},
          "output_type": "execute_result"
        }
      ],
      "source": [
        "\n",
        "def initialize_tree(root):\n",
        "    if root is None:\n",
        "        return None \n",
        "\n",
        "    data_ = [(\"\", x) for x in sorted_pos[root.idx]]\n",
        "    data = data_[:Z]\n",
        "    concat_STASH(data_[Z:])\n",
        "    print(\"STASH is {}\".format(STASH))\n",
        "    \n",
        "    root.val = data \n",
        "    initialize_tree(root.left)\n",
        "    initialize_tree(root.right)\n",
        "    return None\n",
        "\n",
        "initialize_tree(n0)\n",
        "n0"
      ]
    },
    {
      "cell_type": "code",
      "execution_count": 1060,
      "metadata": {
        "id": "HCxk1etDAdih"
      },
      "outputs": [],
      "source": [
        "def getPath(root, NodeId): \n",
        "\t'''\n",
        "\tInput: root(root) node, and leaf node(NodeId)\n",
        "\tOutput: all nodes along the path from leaf node to root node. \n",
        "\t'''\n",
        "\tif not root:\n",
        "\t\treturn []\n",
        "\t\n",
        "\tif root.idx == NodeId:\n",
        "\t\treturn [(root.idx, root.val)] \n",
        "\n",
        "\tleftPath = getPath(root.left, NodeId) \n",
        "\trightPath = getPath(root.right, NodeId)\n",
        " \n",
        "\tif leftPath:\n",
        "\t\treturn leftPath +  [(root.idx, root.val)]\n",
        "\tif rightPath: \n",
        "\t\treturn rightPath + [(root.idx, root.val)]\n",
        "\treturn []"
      ]
    },
    {
      "cell_type": "code",
      "execution_count": 1061,
      "metadata": {
        "colab": {
          "base_uri": "https://localhost:8080/"
        },
        "id": "iTxRQu8CwuFq",
        "outputId": "56d5e876-db45-42b7-b43b-70f06629b3c2"
      },
      "outputs": [
        {
          "name": "stdout",
          "output_type": "stream",
          "text": [
            "[(6, [('', 2), ('', 4), ('', 5), ('', 9)]), (2, [('', 22)]), (0, [('', 20), ('', 24)])]\n"
          ]
        }
      ],
      "source": [
        "print(getPath(n0, 6))"
      ]
    },
    {
      "cell_type": "code",
      "execution_count": 1062,
      "metadata": {
        "colab": {
          "base_uri": "https://localhost:8080/",
          "height": 163
        },
        "id": "hDLsQv-Q_oUv",
        "outputId": "117c43d0-8477-41da-aa1a-10ff6370f4e5"
      },
      "outputs": [
        {
          "data": {
            "text/plain": [
              "''"
            ]
          },
          "execution_count": 1062,
          "metadata": {},
          "output_type": "execute_result"
        }
      ],
      "source": [
        "# inspection \n",
        "def getDataInBlock(root, blockId):\n",
        "  ''' \n",
        "  Get the data associated with a block ID in a given tree\n",
        "  Input: root of a tree and a block ID\n",
        "  Output: the data associated with the block ID \n",
        "  '''\n",
        "  if root is not None:\n",
        "    # it should be iterator here rather than fix length traversal \n",
        "    for elem in iter(root.val):\n",
        "      if elem[1] == blockId:\n",
        "        return elem[0]\n",
        "    # for i in range(Z):\n",
        "    #   if(root.val): #and len(root.val) == Z:\n",
        "    #     if(root.val[i][1] == blockId):\n",
        "    #       return root.val[i][0]\n",
        "\n",
        "    lres = getDataInBlock(root.left, blockId)\n",
        "    if lres is not None: \n",
        "      return lres \n",
        "\n",
        "    rres = getDataInBlock(root.right, blockId)\n",
        "    if rres is not None:\n",
        "      return rres\n",
        "\n",
        "getDataInBlock(n0,16)"
      ]
    },
    {
      "cell_type": "code",
      "execution_count": 1063,
      "metadata": {
        "id": "2NdIzMLqyVOl"
      },
      "outputs": [],
      "source": [
        "def getNodeAtLevel(root, leafidx, level):\n",
        "  '''\n",
        "  Input: the root of a tree, the leaf node index, a specific level\n",
        "  Output: the node along the path from a given leaf node to root node at the given level \n",
        "  '''\n",
        "  path = getPath(root, leafidx)\n",
        "  path_len = len(path)\n",
        "  if level > path_len - 1:\n",
        "    return None\n",
        "  return path[path_len-level-1]\n"
      ]
    },
    {
      "cell_type": "code",
      "execution_count": 1064,
      "metadata": {},
      "outputs": [],
      "source": [
        "def ReadBucket(root, leaf):\n",
        "    '''\n",
        "    read all of the (block, data) pair along the path from a leaf node to the root node \n",
        "    Input: the root of a tree, a leaf node, and a \n",
        "\n",
        "    '''\n",
        "    # STASH = []\n",
        "    for l in range(LEVELS):\n",
        "        bucket = getNodeAtLevel(root, leaf, l)\n",
        "        if bucket is not None:\n",
        "            bucket = bucket[1]\n",
        "            print(\"bucket is {}\".format(bucket))\n",
        "            for elem in bucket: \n",
        "                STASH.append(elem)\n",
        "    return STASH\n",
        "    \n",
        "# ReadBucket(n0, 5)\n"
      ]
    },
    {
      "cell_type": "code",
      "execution_count": 1065,
      "metadata": {
        "id": "BR3z5PWbL4TA"
      },
      "outputs": [],
      "source": [
        "def getCandidateBlocksHelper(root, leaf, blockID, level): \n",
        "\t'''Output: (node.idx, node.val)'''\n",
        "\t# print(\"--------------------------------------------------------------------------------------------inspection function\")\n",
        "\t# print(\"leaf is {} blockID is {} level is{}\".format(leaf, blockID, level))\n",
        "\t# print(\"current blockid {} maps to leaf {} at level {}\".format(blockID,position[blockID], level))\n",
        "\tlhs = getNodeAtLevel(root, leaf, level)\n",
        "\t# print(\"left hand side is \")\n",
        "\t# print(lhs)\n",
        "\t# print(\"right hand side is \")\t\n",
        "\trhs = getNodeAtLevel(root, position[blockID], level)\n",
        "\t# print(rhs)\n",
        " \n",
        "\tif lhs is not None and rhs is not None:\n",
        "\t\tif lhs == rhs:\n",
        "\t\t\treturn (getDataInBlock(root, blockID), blockID)\n",
        "\t\telse:\n",
        "\t\t\treturn None \n",
        "\treturn None"
      ]
    },
    {
      "cell_type": "code",
      "execution_count": 1066,
      "metadata": {},
      "outputs": [],
      "source": [
        "def testing(leaf, blockid):\n",
        "    for i in range(3):\n",
        "        print(\"Testing at Level {}\".format(i))\n",
        "        print(getCandidateBlocksHelper(n0, leaf, blockid, i))        "
      ]
    },
    {
      "cell_type": "code",
      "execution_count": 1067,
      "metadata": {},
      "outputs": [],
      "source": [
        "def testall(): \n",
        "    for leaf,bucket in sorted_pos.items():\n",
        "        print(\"---------------{}-------------\".format(leaf))\n",
        "        for bid in bucket:\n",
        "            print(\"=========={}===========\".format(bid))\n",
        "            testing(leaf, bid)\n",
        "\n",
        "# testall()\n"
      ]
    },
    {
      "cell_type": "code",
      "execution_count": 1068,
      "metadata": {},
      "outputs": [
        {
          "name": "stdout",
          "output_type": "stream",
          "text": [
            "None\n"
          ]
        }
      ],
      "source": [
        "# {4: [1, 5, 17, 28], 0: [2, 6, 16, 20, 24], 3: [3, 4, 8, 10, 18, 25], 1: [7, 15, 21, 27], 6: [9, 11, 14, 26], 2: [12, 19, 23], 5: [13, 22]}\n",
        "# 4 3 1 \n",
        "# print(getCandidateBlocksHelper(n0, 3, 2, 0))\n",
        "print(getCandidateBlocksHelper(n0, 3, 2, 1))\n",
        "# print(getCandidateBlocksHelper(n0, 3, 4, 2))"
      ]
    },
    {
      "cell_type": "code",
      "execution_count": 1069,
      "metadata": {},
      "outputs": [],
      "source": [
        "def getCandidateBlocks(root, leaf, level, stsh): \n",
        "    acc = []\n",
        "    # print(\"from leaf {}\".format(leaf))\n",
        "    for elem in stsh:\n",
        "        # print(\"idb is {}\".format(idb))\n",
        "        blocks = getCandidateBlocksHelper(root, leaf, elem[1], level)\n",
        "        # print(\"blocks {} on the same path as leaf {} are blocks {}\".format(idb, leaf, blocks))\n",
        "        acc.append(blocks)\n",
        "    res = [x for x in acc if x is not None]\n",
        "    return res"
      ]
    },
    {
      "cell_type": "code",
      "execution_count": 1070,
      "metadata": {
        "id": "vrg5ppTq_JBF"
      },
      "outputs": [],
      "source": [
        "def writeBackNodes(root, index, currlevel, tgtlevel, data):\n",
        "\tif root is None:\n",
        "\t\treturn None\n",
        "\n",
        "\tif root.idx == index and currlevel == tgtlevel:\n",
        "\t\tretVal = root.val \n",
        "\t\troot.val = data \n",
        "\t\treturn retVal\n",
        "\n",
        "\tnextlevel = currlevel + 1\n",
        "\n",
        "\tleftTree = writeBackNodes(root.left, index, nextlevel, tgtlevel, data)\n",
        "\tif leftTree: \n",
        "\t\treturn leftTree\n",
        "  \n",
        "\trightTree = writeBackNodes(root.right, index, nextlevel, tgtlevel, data)\n",
        "\tif rightTree:\n",
        "\t\treturn rightTree\n",
        "\n",
        "\treturn None  "
      ]
    },
    {
      "cell_type": "code",
      "execution_count": 1071,
      "metadata": {},
      "outputs": [],
      "source": [
        "def update_STASH(blockID, dataN, stsh):\n",
        "    blockIndex = -1\n",
        "    for (idx, pair) in enumerate(stsh):\n",
        "        temp = list(pair)\n",
        "        if temp[1] == blockID:\n",
        "            blockIndex = idx \n",
        "    stsh[blockIndex] = (dataN, blockID)"
      ]
    },
    {
      "cell_type": "code",
      "execution_count": 1072,
      "metadata": {},
      "outputs": [
        {
          "data": {
            "text/plain": [
              "[('a', 2), ('t', 3)]"
            ]
          },
          "execution_count": 1072,
          "metadata": {},
          "output_type": "execute_result"
        }
      ],
      "source": [
        "def pop_STASH(stsh, items):\n",
        "    '''\n",
        "    Input: STASH, and list of pairs to be popped \n",
        "    Output: updated STASH \n",
        "    '''\n",
        "    # updatedSTASH = [x for x in stsh if x not in items]\n",
        "    for elem in stsh:\n",
        "        if elem in items:\n",
        "            stsh.remove(elem)\n",
        "    return stsh\n",
        "\n",
        "pop_STASH([('d',1),('a', 2),('t',3)],[('d',1)])"
      ]
    },
    {
      "cell_type": "code",
      "execution_count": 1073,
      "metadata": {},
      "outputs": [],
      "source": [
        "def print_tree_status(status):\n",
        "    print(status +\" tree is \")\n",
        "    print(n0)"
      ]
    },
    {
      "cell_type": "code",
      "execution_count": 1074,
      "metadata": {
        "id": "ljtKCTZn_QSL"
      },
      "outputs": [
        {
          "name": "stderr",
          "output_type": "stream",
          "text": [
            "<>:34: SyntaxWarning: \"is not\" with a literal. Did you mean \"!=\"?\n",
            "<>:34: SyntaxWarning: \"is not\" with a literal. Did you mean \"!=\"?\n",
            "/var/folders/r1/qkm3tcjx2ys2lcd0ycgbh3h80000gn/T/ipykernel_1077/2165326832.py:34: SyntaxWarning: \"is not\" with a literal. Did you mean \"!=\"?\n",
            "  if len(STASH) is not 0:\n"
          ]
        }
      ],
      "source": [
        "from turtle import update\n",
        "\n",
        "\n",
        "def access(root, opCode, blockId, dataNew): \n",
        "\tleafIdx = position[blockId]\n",
        "\tprint(\"Node blockID {} maps to leaf {}\".format(blockId, leafIdx))\n",
        "\tposition[blockId] = random.randrange((pow(2, LEVELS - 1) - 1), (pow(2, LEVELS) - 1))\n",
        "\tprint(\"new leaf is {}\".format(position[blockId]) )\n",
        "\t\n",
        "\tSTASH = ReadBucket(root, leafIdx)\n",
        "\tprint(\"root is {}, leaf is {}\".format(root, leafIdx))\n",
        "\tprint(\"Current STASH is \")\n",
        "\tprint(STASH)\n",
        "\n",
        "\t# read block a from STASH\n",
        "\tdataOld = getDataInBlock(root, blockId)\n",
        "\tprint(\"old data is \")\n",
        "\tprint(dataOld)\n",
        "\t\n",
        "\n",
        "\tif opCode == \"wr\": \n",
        "\t\t# (check if the blockId is valid): do we assume a perfect binary tree? \n",
        "\t\t# STASH = [item for item in STASH if item not in [STASH[blockId]]]\n",
        "\t\tupdateNode = getNodeAtLevel(root, leafIdx, LEVELS - 1)\n",
        "\t\tupdate_STASH(blockId, dataNew, STASH)\n",
        "\t\tprint(\"updated STASH is {}\".format(STASH))\n",
        "\t\tprint(\"========== node to be written is  ==========\")\n",
        "\t\tprint(updateNode)\n",
        " \n",
        "\t# write path \n",
        "\tfor l in reversed(range(LEVELS)):\n",
        "\t\tprint(\"_*_*&_*&_*&-_*&qw#_*re&_*-&!@$*_&!@-#.---{}---&_*&-_*&qw#_*re&_*-&!@$*_&!@-\".format(l))\t\t\n",
        "\t\t\n",
        "\t\tif len(STASH) is not 0:\n",
        "\t\t\tcandidateBlocks = getCandidateBlocks(root, leafIdx, l, STASH)\n",
        "\t\t\tif (len(candidateBlocks) >= Z):\n",
        "\t\t\t\twriteBackSize = Z\n",
        "\t\t\telse:\n",
        "\t\t\t\twriteBackSize = len(candidateBlocks)\n",
        "\t\t\twriteBackBlocks = candidateBlocks[:writeBackSize]\n",
        "\t\telse:\n",
        "\t\t\tcandidateBlocks = []\n",
        "\t\t\twriteBackSize = 0\n",
        "\n",
        "\t\tprint(\"CandidateBlock at level {}\".format(l))\n",
        "\t\tprint(candidateBlocks)\n",
        "\t\tprint(\"writeBacBlock at level {}\".format(l))\n",
        "\t\tprint(writeBackBlocks)\n",
        "\t\tpoplist = candidateBlocks[writeBackSize:]\n",
        "\t\tprint(\"poplist is {}\".format(poplist))\n",
        "\t\tupdatedSTASH = pop_STASH(STASH, poplist)\n",
        "\t\tprint(\"Popped STASH is {}\".format(updatedSTASH))\n",
        "\t\t# print_tree_status(\"tree &&&&&&&&&& before poplist is\")\n",
        "\t\tprint_tree_status(\"tree before write back is\")\n",
        "\t\twriteBackNodes(root, leafIdx, 0, l, writeBackBlocks)\n",
        "\treturn dataOld\n",
        "\t"
      ]
    },
    {
      "cell_type": "code",
      "execution_count": 1075,
      "metadata": {},
      "outputs": [
        {
          "name": "stdout",
          "output_type": "stream",
          "text": [
            "initialized tree is \n",
            "(0,[('', 20), ('', 24)],(1,[('', 11), ('', 12), ('', 19), ('', 23)],(3,[('', 1), ('', 6), ('', 7), ('', 15)],None,None),(4,[('', 3), ('', 8), ('', 10), ('', 14)],None,None)),(2,[('', 22)],(5,[('', 16), ('', 27), ('', 28)],None,None),(6,[('', 2), ('', 4), ('', 5), ('', 9)],None,None)))\n",
            "Node blockID 16 maps to leaf 5\n",
            "new leaf is 3\n",
            "bucket is [('', 20), ('', 24)]\n",
            "bucket is [('', 22)]\n",
            "bucket is [('', 16), ('', 27), ('', 28)]\n",
            "root is (0,[('', 20), ('', 24)],(1,[('', 11), ('', 12), ('', 19), ('', 23)],(3,[('', 1), ('', 6), ('', 7), ('', 15)],None,None),(4,[('', 3), ('', 8), ('', 10), ('', 14)],None,None)),(2,[('', 22)],(5,[('', 16), ('', 27), ('', 28)],None,None),(6,[('', 2), ('', 4), ('', 5), ('', 9)],None,None))), leaf is 5\n",
            "Current STASH is \n",
            "[('', 21), ('', 17), ('', 25), ('', 13), ('', 18), ('', 26), ('', 20), ('', 24), ('', 22), ('', 16), ('', 27), ('', 28)]\n",
            "old data is \n",
            "\n",
            "updated STASH is [('', 21), ('', 17), ('', 25), ('', 13), ('', 18), ('', 26), ('', 20), ('', 24), ('', 22), ('x', 16), ('', 27), ('', 28)]\n",
            "========== node to be written is  ==========\n",
            "(5, [('', 16), ('', 27), ('', 28)])\n",
            "_*_*&_*&_*&-_*&qw#_*re&_*-&!@$*_&!@-#.---2---&_*&-_*&qw#_*re&_*-&!@$*_&!@-\n",
            "CandidateBlock at level 2\n",
            "[('', 27), ('', 28)]\n",
            "writeBacBlock at level 2\n",
            "[('', 27), ('', 28)]\n",
            "poplist is []\n",
            "Popped STASH is [('', 21), ('', 17), ('', 25), ('', 13), ('', 18), ('', 26), ('', 20), ('', 24), ('', 22), ('x', 16), ('', 27), ('', 28)]\n",
            "tree before write back is tree is \n",
            "(0,[('', 20), ('', 24)],(1,[('', 11), ('', 12), ('', 19), ('', 23)],(3,[('', 1), ('', 6), ('', 7), ('', 15)],None,None),(4,[('', 3), ('', 8), ('', 10), ('', 14)],None,None)),(2,[('', 22)],(5,[('', 16), ('', 27), ('', 28)],None,None),(6,[('', 2), ('', 4), ('', 5), ('', 9)],None,None)))\n",
            "_*_*&_*&_*&-_*&qw#_*re&_*-&!@$*_&!@-#.---1---&_*&-_*&qw#_*re&_*-&!@$*_&!@-\n",
            "CandidateBlock at level 1\n",
            "[(None, 13), (None, 18), (None, 26), ('', 22), ('', 27), ('', 28)]\n",
            "writeBacBlock at level 1\n",
            "[(None, 13), (None, 18), (None, 26), ('', 22)]\n",
            "poplist is [('', 27), ('', 28)]\n",
            "Popped STASH is [('', 21), ('', 17), ('', 25), ('', 13), ('', 18), ('', 26), ('', 20), ('', 24), ('', 22), ('x', 16), ('', 28)]\n",
            "tree before write back is tree is \n",
            "(0,[('', 20), ('', 24)],(1,[('', 11), ('', 12), ('', 19), ('', 23)],(3,[('', 1), ('', 6), ('', 7), ('', 15)],None,None),(4,[('', 3), ('', 8), ('', 10), ('', 14)],None,None)),(2,[('', 22)],(5,[('', 27), ('', 28)],None,None),(6,[('', 2), ('', 4), ('', 5), ('', 9)],None,None)))\n",
            "_*_*&_*&_*&-_*&qw#_*re&_*-&!@$*_&!@-#.---0---&_*&-_*&qw#_*re&_*-&!@$*_&!@-\n",
            "CandidateBlock at level 0\n",
            "[(None, 21), (None, 17), (None, 25), (None, 13), (None, 18), (None, 26), ('', 20), ('', 24), ('', 22), (None, 16), ('', 28)]\n",
            "writeBacBlock at level 0\n",
            "[(None, 21), (None, 17), (None, 25), (None, 13)]\n",
            "poplist is [(None, 18), (None, 26), ('', 20), ('', 24), ('', 22), (None, 16), ('', 28)]\n",
            "Popped STASH is [('', 21), ('', 17), ('', 25), ('', 13), ('', 18), ('', 26), ('', 24), ('x', 16)]\n",
            "tree before write back is tree is \n",
            "(0,[('', 20), ('', 24)],(1,[('', 11), ('', 12), ('', 19), ('', 23)],(3,[('', 1), ('', 6), ('', 7), ('', 15)],None,None),(4,[('', 3), ('', 8), ('', 10), ('', 14)],None,None)),(2,[('', 22)],(5,[('', 27), ('', 28)],None,None),(6,[('', 2), ('', 4), ('', 5), ('', 9)],None,None)))\n",
            "after first write tree is \n",
            "(0,[('', 20), ('', 24)],(1,[('', 11), ('', 12), ('', 19), ('', 23)],(3,[('', 1), ('', 6), ('', 7), ('', 15)],None,None),(4,[('', 3), ('', 8), ('', 10), ('', 14)],None,None)),(2,[('', 22)],(5,[('', 27), ('', 28)],None,None),(6,[('', 2), ('', 4), ('', 5), ('', 9)],None,None)))\n"
          ]
        }
      ],
      "source": [
        "print_tree_status(\"initialized\")\n",
        "oldD = access(n0, \"wr\", 16, \"x\")\n",
        "print_tree_status(\"after first write\")"
      ]
    }
  ],
  "metadata": {
    "colab": {
      "collapsed_sections": [],
      "provenance": []
    },
    "kernelspec": {
      "display_name": "Python 3.8.9 64-bit",
      "language": "python",
      "name": "python3"
    },
    "language_info": {
      "codemirror_mode": {
        "name": "ipython",
        "version": 3
      },
      "file_extension": ".py",
      "mimetype": "text/x-python",
      "name": "python",
      "nbconvert_exporter": "python",
      "pygments_lexer": "ipython3",
      "version": "3.8.9"
    },
    "vscode": {
      "interpreter": {
        "hash": "31f2aee4e71d21fbe5cf8b01ff0e069b9275f58929596ceb00d14d90e3e16cd6"
      }
    }
  },
  "nbformat": 4,
  "nbformat_minor": 0
}
