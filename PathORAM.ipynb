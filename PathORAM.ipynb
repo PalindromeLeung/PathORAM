{
  "cells": [
    {
      "cell_type": "code",
      "execution_count": 123,
      "metadata": {
        "colab": {
          "base_uri": "https://localhost:8080/"
        },
        "id": "w5H11CVL-4nX",
        "outputId": "dd24dfbb-2921-4cb0-df71-2f2fb82b0c97"
      },
      "outputs": [
        {
          "name": "stdout",
          "output_type": "stream",
          "text": [
            "(0,[('', 0), ('', 0), ('', 0), ('', 0)],(1,[('', 0), ('', 0), ('', 0), ('', 0)],(3,[('', 0), ('', 0), ('', 0), ('', 0)],None,None),(4,[('', 0), ('', 0), ('', 0), ('', 0)],None,None)),(2,[('', 0), ('', 0), ('', 0), ('', 0)],(5,[('', 0), ('', 0), ('', 0), ('', 0)],None,None),(6,[('', 0), ('', 0), ('', 0), ('', 0)],None,None)))\n"
          ]
        }
      ],
      "source": [
        "# Path ORAM \n",
        "from collections import defaultdict, Counter\n",
        "import random\n",
        "\n",
        "class Node(object): \n",
        "\tdef __init__(self, ary, idx, left, right): \n",
        "\t\tself.val = ary\n",
        "\t\tself.idx = idx\n",
        "\t\tself.left = left \n",
        "\t\tself.right = right\n",
        "\t\t\n",
        "\tdef __repr__(self):\n",
        "\t\treturn f\"({self.idx},{self.val},{self.left},{self.right})\"\n",
        "\n",
        "\n",
        "# constructing a simple binary tree\n",
        "# actually each of the int in the arrary should be a pointer to a block of size B\n",
        "#    0    l0\n",
        "#   /\\\n",
        "#  1  2   l1\n",
        "#  /\\ /\\\n",
        "# 3 4 5 6 l2\n",
        "\n",
        "n3 = Node([(\"\", 0),(\"\", 0),(\"\", 0),(\"\", 0)], 3, None, None) \n",
        "n4 = Node([(\"\", 0),(\"\", 0),(\"\", 0),(\"\", 0)], 4, None, None)\n",
        "n5 = Node([(\"\", 0),(\"\", 0),(\"\", 0),(\"\", 0)], 5, None, None)\n",
        "n6 = Node([(\"\", 0),(\"\", 0),(\"\", 0),(\"\", 0)], 6, None, None)\n",
        "\n",
        "n1 = Node([(\"\", 0),(\"\", 0),(\"\", 0),(\"\", 0)], 1, n3, n4)\n",
        "n2 = Node([(\"\", 0),(\"\", 0),(\"\", 0),(\"\", 0)], 2, n5, n6)\n",
        "\n",
        "n0 = Node([(\"\", 0),(\"\", 0),(\"\", 0),(\"\", 0)], 0, n1, n2)\n",
        "\n",
        "# n3 = Node([], 3, None, None) \n",
        "# n4 = Node([], 4, None, None)\n",
        "# n5 = Node([], 5, None, None)\n",
        "# n6 = Node([], 6, None, None)\n",
        "\n",
        "# n1 = Node([], 1, n3, n4)\n",
        "# n2 = Node([], 2, n5, n6)\n",
        "\n",
        "# n0 = Node([], 0, n1, n2)\n",
        "\n",
        "print(n0)"
      ]
    },
    {
      "cell_type": "code",
      "execution_count": 105,
      "metadata": {
        "id": "-XwDMKgw_C1O"
      },
      "outputs": [],
      "source": [
        "def getHeight(root):\n",
        "\tif not root: \n",
        "\t\treturn 0 \n",
        "\n",
        "\tleftHeight = getHeight(root.left)\n",
        "\trightHeight = getHeight(root.right) \n",
        "\n",
        "\treturn max(leftHeight, rightHeight) + 1 "
      ]
    },
    {
      "cell_type": "code",
      "execution_count": 106,
      "metadata": {
        "colab": {
          "base_uri": "https://localhost:8080/"
        },
        "id": "8LWrmM5JTUis",
        "outputId": "7fa3406b-b3bd-4066-855e-1f0074bea1c8"
      },
      "outputs": [
        {
          "name": "stdout",
          "output_type": "stream",
          "text": [
            "3\n"
          ]
        }
      ],
      "source": [
        "LEVELS = getHeight(n0)\n",
        "print(LEVELS)"
      ]
    },
    {
      "cell_type": "code",
      "execution_count": 113,
      "metadata": {
        "id": "GcQZU9n-_Mq0"
      },
      "outputs": [],
      "source": [
        "N = 28 \n",
        "Z = 4 # Z numbers of blocks within each bucket\n",
        "STASH = []\n",
        "random.seed(10)\n",
        "# position = defaultdict(int, {k:random.randrange((pow(2, LEVELS - 1) - 1), (pow(2, LEVELS) - 1)) for k in range(N)})\n",
        "position = defaultdict(int, {k:random.randrange(0, (pow(2, LEVELS) - 1)) for k in range(1,N+1)})\n",
        "\n",
        "# The hard coded tree does not match the position map \n",
        "sorted_pos = defaultdict(list)\n",
        "# {k : v if k in position else 0 for k,v in position.items()}\n",
        "\n",
        "for key,val in position.items():\n",
        "    sorted_pos[val].append(key)\n",
        "    "
      ]
    },
    {
      "cell_type": "code",
      "execution_count": 114,
      "metadata": {
        "colab": {
          "base_uri": "https://localhost:8080/"
        },
        "id": "2cf8W5VW2uor",
        "outputId": "171b79e9-5d89-495b-ee77-be9f9d3fb9f6"
      },
      "outputs": [
        {
          "name": "stdout",
          "output_type": "stream",
          "text": [
            "defaultdict(<class 'int'>, {1: 4, 2: 0, 3: 3, 4: 3, 5: 4, 6: 0, 7: 1, 8: 3, 9: 6, 10: 3, 11: 6, 12: 2, 13: 5, 14: 6, 15: 1, 16: 0, 17: 4, 18: 3, 19: 2, 20: 0, 21: 1, 22: 5, 23: 2, 24: 0, 25: 3, 26: 6, 27: 1, 28: 4})\n",
            "defaultdict(<class 'list'>, {4: [1, 5, 17, 28], 0: [2, 6, 16, 20, 24], 3: [3, 4, 8, 10, 18, 25], 1: [7, 15, 21, 27], 6: [9, 11, 14, 26], 2: [12, 19, 23], 5: [13, 22]})\n"
          ]
        }
      ],
      "source": [
        "print(position)\n",
        "print(sorted_pos)"
      ]
    },
    {
      "cell_type": "code",
      "execution_count": 109,
      "metadata": {
        "id": "HCxk1etDAdih"
      },
      "outputs": [],
      "source": [
        "def getPath(root, NodeId): \n",
        "\t'''\n",
        "\tInput: root(root) node, and leaf node(NodeId)\n",
        "\tOutput: all nodes along the path from leaf node to root node. \n",
        "\t\n",
        "\t'''\n",
        "\tif not root:\n",
        "\t\treturn []\n",
        "\t\n",
        "\tif root.idx == NodeId:\n",
        "\t\treturn [(root.idx, root.val)] \n",
        "\n",
        "\tleftPath = getPath(root.left, NodeId) \n",
        "\trightPath = getPath(root.right, NodeId)\n",
        " \n",
        "\tif leftPath:\n",
        "\t\treturn leftPath +  [(root.idx, root.val)]\n",
        "\tif rightPath: \n",
        "\t\treturn rightPath + [(root.idx, root.val)]\n",
        "\treturn []"
      ]
    },
    {
      "cell_type": "code",
      "execution_count": 110,
      "metadata": {
        "colab": {
          "base_uri": "https://localhost:8080/"
        },
        "id": "iTxRQu8CwuFq",
        "outputId": "56d5e876-db45-42b7-b43b-70f06629b3c2"
      },
      "outputs": [
        {
          "name": "stdout",
          "output_type": "stream",
          "text": [
            "[(6, [('', 0), ('', 0), ('', 0), ('', 0)]), (2, [('', 0), ('', 0), ('', 0), ('', 0)]), (0, [('', 0), ('', 0), ('', 0), ('', 0)])]\n"
          ]
        }
      ],
      "source": [
        "print(getPath(n0, 6))"
      ]
    },
    {
      "cell_type": "code",
      "execution_count": 111,
      "metadata": {
        "id": "6XAIwR_eAfLf"
      },
      "outputs": [],
      "source": [
        "# P(x, l) = node\n",
        "def getNode(root, index, currlevel, tgtlevel): \n",
        "\tif root is None:\n",
        "\t\treturn None \n",
        "\n",
        "\tif root.idx == index and currlevel == tgtlevel: \n",
        "\t\treturn root \n",
        "\n",
        "\tnextlevel = currlevel + 1\n",
        "\n",
        "\tleftNode = getNode(root.left, index, nextlevel, tgtlevel)\n",
        "\tif leftNode is not None:\n",
        "\t\treturn leftNode\n",
        "\n",
        "\trightNode = getNode(root.right, index, nextlevel, tgtlevel)\n",
        "\tif rightNode is not None:\n",
        "\t\treturn rightNode\n",
        "\n",
        "\treturn None"
      ]
    },
    {
      "cell_type": "code",
      "execution_count": 112,
      "metadata": {},
      "outputs": [
        {
          "ename": "TypeError",
          "evalue": "getNode() missing 3 required positional arguments: 'index', 'currlevel', and 'tgtlevel'",
          "output_type": "error",
          "traceback": [
            "\u001b[0;31m---------------------------------------------------------------------------\u001b[0m",
            "\u001b[0;31mTypeError\u001b[0m                                 Traceback (most recent call last)",
            "Cell \u001b[0;32mIn [112], line 1\u001b[0m\n\u001b[0;32m----> 1\u001b[0m getNode(n0, )\n",
            "\u001b[0;31mTypeError\u001b[0m: getNode() missing 3 required positional arguments: 'index', 'currlevel', and 'tgtlevel'"
          ]
        }
      ],
      "source": [
        "getNode(n0, )"
      ]
    },
    {
      "cell_type": "code",
      "execution_count": 115,
      "metadata": {
        "colab": {
          "base_uri": "https://localhost:8080/",
          "height": 163
        },
        "id": "hDLsQv-Q_oUv",
        "outputId": "117c43d0-8477-41da-aa1a-10ff6370f4e5"
      },
      "outputs": [
        {
          "name": "stdout",
          "output_type": "stream",
          "text": [
            "root idx is 0\n",
            "root idx is 1\n",
            "root idx is 3\n",
            "root idx is 4\n",
            "root idx is 2\n",
            "root idx is 5\n",
            "root idx is 6\n"
          ]
        }
      ],
      "source": [
        "def getBlock(root, blockId):\n",
        "  if root is not None:\n",
        "    print(\"root idx is \" + str(root.idx))\n",
        "    for i in range(Z):\n",
        "      if(root.val):\n",
        "        if(root.val[i][1] == blockId):\n",
        "          return root.val[i][0]\n",
        "\n",
        "    lres = getBlock(root.left, blockId)\n",
        "    if lres is not None: \n",
        "      return lres \n",
        "\n",
        "    rres = getBlock(root.right, blockId)\n",
        "    if rres is not None:\n",
        "      return rres\n",
        "\n",
        "getBlock(n0,16)"
      ]
    },
    {
      "cell_type": "code",
      "execution_count": null,
      "metadata": {
        "id": "2NdIzMLqyVOl"
      },
      "outputs": [],
      "source": [
        "def getNodeAtLevel(root, leafidx, level):\n",
        "  path = getPath(root, leafidx)\n",
        "  path_len = len(path)\n",
        "  if level >= path_len:\n",
        "    return None \n",
        "  return path[path_len-level-1]\n"
      ]
    },
    {
      "cell_type": "code",
      "execution_count": null,
      "metadata": {},
      "outputs": [
        {
          "name": "stdout",
          "output_type": "stream",
          "text": [
            "(0, [])\n",
            "(1, [])\n",
            "(0, [])\n"
          ]
        }
      ],
      "source": [
        "print(getNodeAtLevel(n0, 2, 0))\n",
        "print(getNodeAtLevel(n0, 3, 1))\n",
        "print(getNodeAtLevel(n0, 3, 0))\n"
      ]
    },
    {
      "cell_type": "code",
      "execution_count": null,
      "metadata": {
        "id": "BR3z5PWbL4TA"
      },
      "outputs": [],
      "source": [
        "def getCandidateBlocksHelper(root, leaf, blockID, level): \n",
        "\t\t\t\t\t\t\t# root, index(leaf), curl lvl, tgt lvl\n",
        "\t# print(\"current blockid {} maps to leaf {}\".format(blockID,position[blockID]))\n",
        "\tlhs = getNodeAtLevel(root, leaf, level)\n",
        "\t# print(\"left hand side is \")\n",
        "\t# print(lhs)\n",
        "\t# print(\"right hand side is \")\n",
        "\trhs = getNodeAtLevel(root, position[blockID], level)\n",
        "\t# print(rhs)\n",
        " \n",
        "\tif lhs is not None and rhs is not None:\n",
        "\t\tif lhs == rhs:\n",
        "\t\t\treturn lhs\n",
        "\t\telse:\n",
        "\t\t\treturn None \n",
        "\treturn None"
      ]
    },
    {
      "cell_type": "code",
      "execution_count": null,
      "metadata": {},
      "outputs": [],
      "source": [
        "def testing(leaf, blockid):\n",
        "    for i in range(3):\n",
        "        print(\"Testing at Level {}\".format(i))\n",
        "        print(getCandidateBlocksHelper(n0, leaf, blockid, i))"
      ]
    },
    {
      "cell_type": "code",
      "execution_count": null,
      "metadata": {},
      "outputs": [],
      "source": [
        "# {4: [0, 4, 16, 27], 0: [1, 5, 15, 19, 23], 3: [2, 3, 7, 9, 17, 24], 1: [6, 14, 20, 26], 6: [8, 10, 13, 25], 2: [11, 18, 22], 5: [12, 21]}\n",
        "# testing(4,23)"
      ]
    },
    {
      "cell_type": "code",
      "execution_count": 120,
      "metadata": {},
      "outputs": [],
      "source": [
        "def testall(): \n",
        "    for leaf,bucket in sorted_pos.items():\n",
        "        print(\"---------------{}-------------\".format(leaf))\n",
        "        for bid in bucket:\n",
        "            print(\"=========={}===========\".format(bid))\n",
        "            testing(leaf, bid)\n",
        "\n",
        "# testall()\n"
      ]
    },
    {
      "cell_type": "code",
      "execution_count": null,
      "metadata": {},
      "outputs": [
        {
          "name": "stdout",
          "output_type": "stream",
          "text": [
            "(0, [])\n",
            "(1, [])\n",
            "(3, [])\n"
          ]
        }
      ],
      "source": [
        "print(getCandidateBlocksHelper(n0, 3, 2, 0))\n",
        "print(getCandidateBlocksHelper(n0, 3, 2, 1))\n",
        "print(getCandidateBlocksHelper(n0, 3, 2, 2))"
      ]
    },
    {
      "cell_type": "code",
      "execution_count": null,
      "metadata": {},
      "outputs": [],
      "source": [
        "def getCandidateBlocks(root, leaf, level): \n",
        "    acc = []\n",
        "    for idb in range(N):\n",
        "        blocks = getCandidateBlocksHelper(root, leaf, idb, level)\n",
        "        # print(\"blocks {} on the same path as leaf {} are blocks {}\".format(idb, leaf, blocks))\n",
        "        acc.append(blocks)\n",
        "    res = [x for x in acc if x is not None]\n",
        "    return res"
      ]
    },
    {
      "cell_type": "code",
      "execution_count": null,
      "metadata": {},
      "outputs": [
        {
          "data": {
            "text/plain": [
              "[(4, [(4, []), None, None, None]),\n",
              " (4, [(4, []), None, None, None]),\n",
              " (4, [(4, []), None, None, None])]"
            ]
          },
          "execution_count": 95,
          "metadata": {},
          "output_type": "execute_result"
        }
      ],
      "source": [
        "blocks0 = getCandidateBlocks(n0, 4, 2)\n",
        "blocks1 = getCandidateBlocks(n0, 4, 1)\n",
        "blocks2 = getCandidateBlocks(n0, 4, 0)\n",
        "\n",
        "blocks0"
      ]
    },
    {
      "cell_type": "code",
      "execution_count": null,
      "metadata": {
        "id": "vrg5ppTq_JBF"
      },
      "outputs": [],
      "source": [
        "def writeBackNodes(root, index, currlevel, tgtlevel, data):\n",
        "\tif root is None:\n",
        "\t\treturn None\n",
        "\n",
        "\tif root.idx == index and currlevel == tgtlevel:\n",
        "\t\tretVal = root.val \n",
        "\t\troot.val = data \n",
        "\t\treturn retVal\n",
        "\n",
        "\tnextlevel = currlevel + 1\n",
        "\n",
        "\tleftTree = writeBackNodes(root.left, index, nextlevel, tgtlevel, data)\n",
        "\tif leftTree: \n",
        "\t\treturn leftTree\n",
        "  \n",
        "\trightTree = writeBackNodes(root.right, index, nextlevel, tgtlevel, data)\n",
        "\tif rightTree:\n",
        "\t\treturn rightTree\n",
        "\n",
        "\treturn None  "
      ]
    },
    {
      "cell_type": "code",
      "execution_count": 125,
      "metadata": {
        "id": "ljtKCTZn_QSL"
      },
      "outputs": [],
      "source": [
        "def access(root, opCode, blockId, dataNew): \n",
        "\tleafIdx = position[blockId]\n",
        "\tposition[blockId] = random.randrange((pow(2, LEVELS - 1) - 1), (pow(2, LEVELS) - 1))\n",
        "\t\n",
        "\tSTASH = getPath(root, leafIdx)\n",
        "\tprint(\"Current STASH is \")\n",
        "\tprint(STASH)\n",
        " \n",
        "\t# read block a from STASH\n",
        "\tdataOld = getBlock(root, blockId)\n",
        "\tprint(\"old data is \")\n",
        "\tprint(dataOld)\n",
        " \n",
        "\tif opCode == \"wr\": # assume blockId is in range or define the number of buckets\n",
        "\t\t# (check if the blockId is valid): do we assume a perfect binary tree? \n",
        "\t\t# STASH = [item for item in STASH if item not in [STASH[blockId]]]\n",
        "\t\tupdateNode = getNode(root, leafIdx, 0, LEVELS - 1)\n",
        "\t\tSTASH[0] = dataNew\n",
        "\t\tprint(\"========== new data inserted the stash======\")\n",
        "\t\tprint(STASH[0])\n",
        " \n",
        "\t# write path \n",
        "\tfor l in reversed(range(LEVELS)):\n",
        "\t\t# insert additional blocks from the STASH to the path along the tree \n",
        "\t\t\n",
        "\t\tcandidateBlocks = getCandidateBlocks(root,  leafIdx, l)\n",
        "\n",
        "\t\tif (len(candidateBlocks) >= Z):\n",
        "\t\t\twriteBackSize = Z\n",
        "\t\telse:\n",
        "\t\t\twriteBackSize = len(candidateBlocks)\n",
        "\n",
        "\t\twriteBackBlocks = candidateBlocks[:writeBackSize]\n",
        "\t\tprint(\"writeBacBlock at level {}\".format(l))\n",
        "\t\tprint(writeBackBlocks)\n",
        "\t\tupdatedStash = candidateBlocks[writeBackSize:]\n",
        "\t\t# print(\"upated STASH is \")\n",
        "\t\t# print(updatedStash)\n",
        "\n",
        "\t\twriteBackNodes(root, leafIdx, 0, l, writeBackBlocks)\n",
        "\treturn dataOld\n",
        "\t"
      ]
    },
    {
      "cell_type": "code",
      "execution_count": 118,
      "metadata": {},
      "outputs": [],
      "source": [
        "def print_tree_status():\n",
        "    print(\"current tree is \")\n",
        "    print(n0)"
      ]
    },
    {
      "cell_type": "code",
      "execution_count": 126,
      "metadata": {
        "colab": {
          "base_uri": "https://localhost:8080/"
        },
        "id": "rAT0BpH11G4T",
        "outputId": "069fa20a-cecd-4732-8d2e-a3a8c0bd9d46"
      },
      "outputs": [
        {
          "name": "stdout",
          "output_type": "stream",
          "text": [
            "Current STASH is \n",
            "[(5, [('', 0), ('', 0), ('', 0), ('', 0)]), (2, [('', 0), ('', 0), ('', 0), ('', 0)]), (0, [('', 0), ('', 0), ('', 0), ('', 0)])]\n",
            "root idx is 0\n",
            "root idx is 1\n",
            "root idx is 3\n",
            "root idx is 4\n",
            "root idx is 2\n",
            "root idx is 5\n",
            "root idx is 6\n",
            "old data is \n",
            "None\n",
            "========== new data inserted the stash======\n",
            "x\n",
            "writeBacBlock at level 2\n",
            "[(5, [('', 0), ('', 0), ('', 0), ('', 0)]), (5, [('', 0), ('', 0), ('', 0), ('', 0)]), (5, [('', 0), ('', 0), ('', 0), ('', 0)])]\n",
            "writeBacBlock at level 1\n",
            "[(2, [('', 0), ('', 0), ('', 0), ('', 0)]), (2, [('', 0), ('', 0), ('', 0), ('', 0)]), (2, [('', 0), ('', 0), ('', 0), ('', 0)]), (2, [('', 0), ('', 0), ('', 0), ('', 0)])]\n",
            "writeBacBlock at level 0\n",
            "[(0, [('', 0), ('', 0), ('', 0), ('', 0)]), (0, [('', 0), ('', 0), ('', 0), ('', 0)]), (0, [('', 0), ('', 0), ('', 0), ('', 0)]), (0, [('', 0), ('', 0), ('', 0), ('', 0)])]\n",
            "current tree is \n",
            "(0,[('', 0), ('', 0), ('', 0), ('', 0)],(1,[('', 0), ('', 0), ('', 0), ('', 0)],(3,[('', 0), ('', 0), ('', 0), ('', 0)],None,None),(4,[('', 0), ('', 0), ('', 0), ('', 0)],None,None)),(2,[('', 0), ('', 0), ('', 0), ('', 0)],(5,[(5, [('', 0), ('', 0), ('', 0), ('', 0)]), (5, [('', 0), ('', 0), ('', 0), ('', 0)]), (5, [('', 0), ('', 0), ('', 0), ('', 0)])],None,None),(6,[(6, [('', 0), ('', 0), ('', 0), ('', 0)]), (6, [('', 0), ('', 0), ('', 0), ('', 0)]), (6, [('', 0), ('', 0), ('', 0), ('', 0)]), (6, [('', 0), ('', 0), ('', 0), ('', 0)])],None,None)))\n"
          ]
        }
      ],
      "source": [
        "oldD = access(n0, \"wr\", 16, \"x\")\n",
        "print_tree_status()"
      ]
    }
  ],
  "metadata": {
    "colab": {
      "collapsed_sections": [],
      "provenance": []
    },
    "kernelspec": {
      "display_name": "Python 3.8.9 64-bit",
      "language": "python",
      "name": "python3"
    },
    "language_info": {
      "codemirror_mode": {
        "name": "ipython",
        "version": 3
      },
      "file_extension": ".py",
      "mimetype": "text/x-python",
      "name": "python",
      "nbconvert_exporter": "python",
      "pygments_lexer": "ipython3",
      "version": "3.8.9"
    },
    "vscode": {
      "interpreter": {
        "hash": "31f2aee4e71d21fbe5cf8b01ff0e069b9275f58929596ceb00d14d90e3e16cd6"
      }
    }
  },
  "nbformat": 4,
  "nbformat_minor": 0
}
