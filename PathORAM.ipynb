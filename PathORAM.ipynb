{
  "cells": [
    {
      "cell_type": "code",
      "execution_count": 2605,
      "metadata": {
        "colab": {
          "base_uri": "https://localhost:8080/"
        },
        "id": "w5H11CVL-4nX",
        "outputId": "dd24dfbb-2921-4cb0-df71-2f2fb82b0c97"
      },
      "outputs": [],
      "source": [
        "# Path ORAM \n",
        "\n",
        "from collections import defaultdict, Counter\n",
        "from enum import Enum \n",
        "from turtle import update\n",
        "import random\n",
        "import string\n",
        "\n",
        "class Node(object): \n",
        "\tdef __init__(self, ary, idx, left, right): \n",
        "\t\tself.val = ary\n",
        "\t\tself.idx = idx\n",
        "\t\tself.left = left \n",
        "\t\tself.right = right\n",
        "\t\t\n",
        "\tdef __repr__(self):\n",
        "\t\treturn f\"({self.idx},{self.val},{self.left},{self.right})\"\n"
      ]
    },
    {
      "cell_type": "code",
      "execution_count": 2606,
      "metadata": {},
      "outputs": [],
      "source": [
        "def getNewNode(val, idx,):\n",
        "    newNode = Node(val, idx,None, None)\n",
        "    return newNode"
      ]
    },
    {
      "cell_type": "code",
      "execution_count": 2607,
      "metadata": {},
      "outputs": [],
      "source": [
        "def buildPBT_helper(start, end, pre): \n",
        "    if start > end:\n",
        "        return None \n",
        "    root = getNewNode([], pre[start])\n",
        "\n",
        "    if(start == end):\n",
        "        return root \n",
        "    \n",
        "    leftStart = start + 1 \n",
        "    rightStart = leftStart + int((end - leftStart + 1) /2)\n",
        "    leftEnd = rightStart - 1\n",
        "    rightEnd = end \n",
        "\n",
        "    root.left = buildPBT_helper(leftStart, leftEnd, pre)\n",
        "    root.right = buildPBT_helper(rightStart, rightEnd, pre)\n",
        "    return root \n"
      ]
    },
    {
      "cell_type": "code",
      "execution_count": 2608,
      "metadata": {},
      "outputs": [
        {
          "data": {
            "text/plain": [
              "(0,[],(1,[],(2,[],None,None),(3,[],None,None)),(4,[],(5,[],None,None),(6,[],None,None)))"
            ]
          },
          "execution_count": 2608,
          "metadata": {},
          "output_type": "execute_result"
        }
      ],
      "source": [
        "# constructing a simple binary tree\n",
        "# actually each of the int in the arrary should be a pointer to a block of size B\n",
        "#    0    l0\n",
        "#   /\\\n",
        "#  1  4   l1\n",
        "#  /\\ /\\\n",
        "# 2 3 5 6 l2\n",
        "\n",
        "def buildPBT(pre, size):\n",
        "    return buildPBT_helper(0, size - 1, pre)\n",
        "\n",
        "rt = buildPBT(range(7),7)\n",
        "rt"
      ]
    },
    {
      "cell_type": "code",
      "execution_count": 2609,
      "metadata": {
        "id": "-XwDMKgw_C1O"
      },
      "outputs": [],
      "source": [
        "def getHeight(root):\n",
        "\t'''\n",
        "\tAssumption: the given tree is a binary tree \n",
        "\tInput: the root node of a tree \n",
        "\tOutput: the height of the tree \n",
        "\t'''\n",
        "\tif not root: \n",
        "\t\treturn 0 \n",
        "\n",
        "\tleftHeight = getHeight(root.left)\n",
        "\trightHeight = getHeight(root.right) \n",
        "\n",
        "\treturn max(leftHeight, rightHeight) + 1 "
      ]
    },
    {
      "cell_type": "code",
      "execution_count": 2610,
      "metadata": {
        "id": "GcQZU9n-_Mq0"
      },
      "outputs": [],
      "source": [
        "# Global set up \n",
        "N = 28 \n",
        "\n",
        "# Z numbers of blocks within each bucket\n",
        "Z = 4 \n",
        "StashInit = []\n",
        "LEVELS = getHeight(rt) \n",
        "\n",
        "random.seed(11)\n",
        "position = defaultdict(int, {k:random.randrange(0, (pow(2, LEVELS) - 1)) for k in range(1,N+1)})\n",
        "Operator = ['rd', 'wr']\n",
        "\n",
        "sorted_pos = defaultdict(list)\n",
        "\n",
        "for key,val in position.items():\n",
        "    sorted_pos[val].append(key)\n",
        "    "
      ]
    },
    {
      "cell_type": "code",
      "execution_count": 2611,
      "metadata": {
        "colab": {
          "base_uri": "https://localhost:8080/"
        },
        "id": "2cf8W5VW2uor",
        "outputId": "171b79e9-5d89-495b-ee77-be9f9d3fb9f6"
      },
      "outputs": [
        {
          "name": "stdout",
          "output_type": "stream",
          "text": [
            "defaultdict(<class 'int'>, {1: 3, 2: 6, 3: 4, 4: 6, 5: 6, 6: 3, 7: 3, 8: 4, 9: 6, 10: 4, 11: 1, 12: 1, 13: 6, 14: 4, 15: 3, 16: 5, 17: 4, 18: 6, 19: 1, 20: 0, 21: 3, 22: 2, 23: 1, 24: 0, 25: 4, 26: 6, 27: 5, 28: 5})\n",
            "defaultdict(<class 'list'>, {3: [1, 6, 7, 15, 21], 6: [2, 4, 5, 9, 13, 18, 26], 4: [3, 8, 10, 14, 17, 25], 1: [11, 12, 19, 23], 5: [16, 27, 28], 0: [20, 24], 2: [22]})\n"
          ]
        }
      ],
      "source": [
        "print(position)\n",
        "print(sorted_pos)"
      ]
    },
    {
      "cell_type": "code",
      "execution_count": 2612,
      "metadata": {},
      "outputs": [],
      "source": [
        "def concat_STASH(stsh, anotherL):\n",
        "    for i in anotherL:\n",
        "        stsh.append(i)\n",
        "    return None "
      ]
    },
    {
      "cell_type": "code",
      "execution_count": 2613,
      "metadata": {},
      "outputs": [
        {
          "name": "stdout",
          "output_type": "stream",
          "text": [
            "Before init the stash is \n",
            "[]\n",
            "After init the stash is \n",
            "[('', 21), ('', 17), ('', 25), ('', 13), ('', 18), ('', 26)]\n"
          ]
        }
      ],
      "source": [
        "def initialize_tree(root, stsh):\n",
        "    if root is None:\n",
        "        return None \n",
        "\n",
        "    data_ = [(\"\", x) for x in sorted_pos[root.idx]]\n",
        "    data = data_[:Z]\n",
        "    concat_STASH(stsh, data_[Z:])\n",
        "    \n",
        "    root.val = data \n",
        "    initialize_tree(root.left, stsh)\n",
        "    initialize_tree(root.right, stsh)\n",
        "    return None\n",
        "print(\"Before init the stash is \")\n",
        "print(StashInit)\n",
        "initialize_tree(rt, StashInit)\n",
        "print(\"After init the stash is \")\n",
        "print(StashInit)\n"
      ]
    },
    {
      "cell_type": "code",
      "execution_count": 2614,
      "metadata": {
        "id": "HCxk1etDAdih"
      },
      "outputs": [],
      "source": [
        "def getPath(root, NodeId): \n",
        "\t'''\n",
        "\tInput: root(root) node, and leaf node(NodeId)\n",
        "\tOutput: all nodes along the path from leaf node to root node. \n",
        "\t'''\n",
        "\tif not root:\n",
        "\t\treturn []\n",
        "\t\n",
        "\tif root.idx == NodeId:\n",
        "\t\treturn [(root.idx, root.val)] \n",
        "\n",
        "\tleftPath = getPath(root.left, NodeId) \n",
        "\trightPath = getPath(root.right, NodeId)\n",
        " \n",
        "\tif leftPath:\n",
        "\t\treturn leftPath +  [(root.idx, root.val)]\n",
        "\tif rightPath: \n",
        "\t\treturn rightPath + [(root.idx, root.val)]\n",
        "\treturn []"
      ]
    },
    {
      "cell_type": "code",
      "execution_count": 2615,
      "metadata": {
        "colab": {
          "base_uri": "https://localhost:8080/"
        },
        "id": "iTxRQu8CwuFq",
        "outputId": "56d5e876-db45-42b7-b43b-70f06629b3c2"
      },
      "outputs": [
        {
          "name": "stdout",
          "output_type": "stream",
          "text": [
            "[(6, [('', 2), ('', 4), ('', 5), ('', 9)]), (4, [('', 3), ('', 8), ('', 10), ('', 14)]), (0, [('', 20), ('', 24)])]\n"
          ]
        }
      ],
      "source": [
        "print(getPath(rt, 6))"
      ]
    },
    {
      "cell_type": "code",
      "execution_count": 2616,
      "metadata": {
        "colab": {
          "base_uri": "https://localhost:8080/",
          "height": 163
        },
        "id": "hDLsQv-Q_oUv",
        "outputId": "117c43d0-8477-41da-aa1a-10ff6370f4e5"
      },
      "outputs": [
        {
          "data": {
            "text/plain": [
              "''"
            ]
          },
          "execution_count": 2616,
          "metadata": {},
          "output_type": "execute_result"
        }
      ],
      "source": [
        "def getDataInBlock(root, blockId):\n",
        "  ''' \n",
        "  Get the data associated with a block ID in a given tree\n",
        "  Input: root of a tree and a block ID\n",
        "  Output: the data associated with the block ID \n",
        "  '''\n",
        "  if root is not None:\n",
        "    for elem in iter(root.val):\n",
        "      if elem[1] == blockId:\n",
        "        return elem[0]\n",
        "\n",
        "    lres = getDataInBlock(root.left, blockId)\n",
        "    if lres is not None: \n",
        "      return lres \n",
        "\n",
        "    rres = getDataInBlock(root.right, blockId)\n",
        "    if rres is not None:\n",
        "      return rres\n",
        "\n",
        "getDataInBlock(rt,16)"
      ]
    },
    {
      "cell_type": "code",
      "execution_count": 2617,
      "metadata": {
        "id": "2NdIzMLqyVOl"
      },
      "outputs": [],
      "source": [
        "def getNodeAtLevel(root, leafidx, level):\n",
        "  '''\n",
        "  Input: the root of a tree, the leaf node index, a specific level\n",
        "  Output: the node along the path from a given leaf node to root node at the given level \n",
        "  '''\n",
        "  path = getPath(root, leafidx)\n",
        "  path_len = len(path)\n",
        "  if level > path_len - 1:\n",
        "    return None\n",
        "  return path[path_len-level-1]\n"
      ]
    },
    {
      "cell_type": "code",
      "execution_count": 2618,
      "metadata": {},
      "outputs": [],
      "source": [
        "def ReadNodes(root, leaf, stsh):\n",
        "    '''\n",
        "    read all of the (block, data) pair along the path from a leaf node to the root node \n",
        "    Input: the root of a tree, a leaf node, and a \n",
        "\n",
        "    '''\n",
        "    for l in range(LEVELS):\n",
        "        bucket = getNodeAtLevel(root, leaf, l)\n",
        "        if bucket is not None:\n",
        "            bucket = bucket[1]\n",
        "            for elem in bucket: \n",
        "                stsh.append(elem)\n",
        "    return stsh\n"
      ]
    },
    {
      "cell_type": "code",
      "execution_count": 2619,
      "metadata": {
        "id": "BR3z5PWbL4TA"
      },
      "outputs": [],
      "source": [
        "def getCandidateBlocksHelper(root, leaf, blockID, level): \n",
        "\t'''Output: (node.idx, node.val)'''\n",
        "\tlhs = getNodeAtLevel(root, leaf, level)\n",
        "\trhs = getNodeAtLevel(root, position[blockID], level)\n",
        "\tif lhs is not None and rhs is not None:\n",
        "\t\tif lhs == rhs:\n",
        "\t\t\treturn (getDataInBlock(root, blockID), blockID)\n",
        "\t\telse:\n",
        "\t\t\treturn None \n",
        "\treturn None"
      ]
    },
    {
      "cell_type": "code",
      "execution_count": 2620,
      "metadata": {},
      "outputs": [],
      "source": [
        "def testing(leaf, blockid):\n",
        "    for i in range(3):\n",
        "        print(\"Testing at Level {}\".format(i))\n",
        "        print(getCandidateBlocksHelper(rt, leaf, blockid, i))        "
      ]
    },
    {
      "cell_type": "code",
      "execution_count": 2621,
      "metadata": {},
      "outputs": [],
      "source": [
        "def testall(): \n",
        "    for leaf,bucket in sorted_pos.items():\n",
        "        print(\"---------------{}-------------\".format(leaf))\n",
        "        for bid in bucket:\n",
        "            print(\"=========={}===========\".format(bid))\n",
        "            testing(leaf, bid)"
      ]
    },
    {
      "cell_type": "code",
      "execution_count": 2622,
      "metadata": {},
      "outputs": [
        {
          "name": "stdout",
          "output_type": "stream",
          "text": [
            "None\n"
          ]
        }
      ],
      "source": [
        "#{3: [1, 6, 7, 15, 21], 6: [2, 4, 5, 9, 13, 18, 26], 4: [3, 8, 10, 14, 17, 25], 1: [11, 12, 19, 23], 5: [16, 27, 28], 0: [20, 24], 2: [22]}\n",
        "# print(getCandidateBlocksHelper(rt, 3, 2, 0))\n",
        "print(getCandidateBlocksHelper(rt, 3, 2, 1))\n",
        "# print(getCandidateBlocksHelper(rt, 3, 4, 2))"
      ]
    },
    {
      "cell_type": "code",
      "execution_count": 2623,
      "metadata": {},
      "outputs": [],
      "source": [
        "def getCandidateBlocks(root, leaf, level, stsh): \n",
        "    acc = []\n",
        "    for elem in stsh:\n",
        "        blocks = getCandidateBlocksHelper(root, leaf, elem[1], level)\n",
        "        acc.append(blocks)\n",
        "    res = [x for x in acc if x is not None]\n",
        "    return res"
      ]
    },
    {
      "cell_type": "code",
      "execution_count": 2624,
      "metadata": {},
      "outputs": [],
      "source": [
        "# currently the STASH has duplicated blockIDs so this function assumes the uniqueness of blocks in the STASH\n",
        "def readBlockFromStsh(stsh, blockID):\n",
        "    if stsh is None: \n",
        "        return None \n",
        "    for elem in stsh:\n",
        "        if elem[1] == blockID:\n",
        "            return elem[0]"
      ]
    },
    {
      "cell_type": "code",
      "execution_count": 2625,
      "metadata": {
        "id": "vrg5ppTq_JBF"
      },
      "outputs": [],
      "source": [
        "def writeBackNodes(root, index, currlevel, tgtlevel, data):\n",
        "\tif root is None:\n",
        "\t\treturn None\n",
        "\n",
        "\tif root.idx == index and currlevel == tgtlevel:\n",
        "\t\tretVal = root.val \n",
        "\t\troot.val = data \n",
        "\t\treturn retVal\n",
        "\n",
        "\tnextlevel = currlevel + 1\n",
        "\n",
        "\tleftTree = writeBackNodes(root.left, index, nextlevel, tgtlevel, data)\n",
        "\tif leftTree: \n",
        "\t\treturn leftTree\n",
        "  \n",
        "\trightTree = writeBackNodes(root.right, index, nextlevel, tgtlevel, data)\n",
        "\tif rightTree:\n",
        "\t\treturn rightTree\n",
        "\n",
        "\treturn None  "
      ]
    },
    {
      "cell_type": "code",
      "execution_count": 2626,
      "metadata": {},
      "outputs": [],
      "source": [
        "def update_STASH(blockID, dataN, stsh):\n",
        "    blockIndex = -1\n",
        "    for (idx, pair) in enumerate(stsh):\n",
        "        temp = list(pair)\n",
        "        if temp[1] == blockID:\n",
        "            blockIndex = idx \n",
        "    stsh[blockIndex] = (dataN, blockID)"
      ]
    },
    {
      "cell_type": "code",
      "execution_count": 2627,
      "metadata": {},
      "outputs": [],
      "source": [
        "def pop_STASH(stsh, items):\n",
        "    '''\n",
        "    Input: STASH, and list of pairs to be popped \n",
        "    Output: updated STASH \n",
        "    '''\n",
        "    popIds = [] \n",
        "    for item in items:\n",
        "        popIds.append(item[1])\n",
        "    updatedSTASH = [x for x in stsh if x[1] not in popIds]\n",
        "    return updatedSTASH"
      ]
    },
    {
      "cell_type": "code",
      "execution_count": 2628,
      "metadata": {},
      "outputs": [],
      "source": [
        "def print_tree_status(status):\n",
        "    print(status +\" tree is \")\n",
        "    print(rt)"
      ]
    },
    {
      "cell_type": "code",
      "execution_count": 2629,
      "metadata": {
        "id": "ljtKCTZn_QSL"
      },
      "outputs": [],
      "source": [
        "def access(root, opCode, blockId, dataNew=None): \n",
        "\tleafIdx = position[blockId]\n",
        "\tposition[blockId] = random.randrange(0, (pow(2, LEVELS) - 1))\n",
        "\tglobal StashInit\n",
        "\tSTASH = ReadNodes(root, leafIdx, StashInit)\n",
        "\t# print(\"-------after reading from the path from leaf node {}, new mapped node is {}----------------------\".format(leafIdx,position[blockId]))\n",
        "\t# print(\"STASH is {}\".format(STASH))\n",
        "\tdataOld = readBlockFromStsh(STASH, blockId)\n",
        "\tif opCode == \"wr\": \n",
        "\t\tupdateNode = getNodeAtLevel(root, leafIdx, LEVELS - 1)\n",
        "\t\tupdate_STASH(blockId, dataNew, STASH)\n",
        "\n",
        "\n",
        "\tfor l in reversed(range(LEVELS)):\t\t\n",
        "\t\tif len(STASH) != 0:\n",
        "\t\t\tcandidateBlocks = getCandidateBlocks(root, leafIdx, l, STASH)\n",
        "\t\t\tif (len(candidateBlocks) >= Z):\n",
        "\t\t\t\twriteBackSize = Z\n",
        "\t\t\telse:\n",
        "\t\t\t\twriteBackSize = len(candidateBlocks)\n",
        "\t\telse:\n",
        "\t\t\tcandidateBlocks = []\n",
        "\t\t\twriteBackSize = 0\n",
        "\t\twriteBackBlocks = candidateBlocks[:writeBackSize] \n",
        "\t\t# print(\"write back blocks are\")\n",
        "\t\t# print(writeBackBlocks)\n",
        "\t\tupdatedSTASH = pop_STASH(STASH, writeBackBlocks)\n",
        "\t\tStashInit = updatedSTASH\n",
        "\t\twriteBackNodes(root, leafIdx, 0, l, writeBackBlocks)\n",
        "\t\t# print(\"updated STASH is {}\".format(updatedSTASH))\n",
        "\treturn dataOld\n",
        "\t"
      ]
    },
    {
      "cell_type": "code",
      "execution_count": 2630,
      "metadata": {},
      "outputs": [
        {
          "data": {
            "text/plain": [
              "''"
            ]
          },
          "execution_count": 2630,
          "metadata": {},
          "output_type": "execute_result"
        }
      ],
      "source": [
        "access(rt, 'wr', 13, \"C\")"
      ]
    },
    {
      "cell_type": "code",
      "execution_count": 2631,
      "metadata": {},
      "outputs": [],
      "source": [
        "res = access(rt, 'rd', 13, )\n",
        "res"
      ]
    },
    {
      "cell_type": "markdown",
      "metadata": {},
      "source": [
        "Development notes:\n",
        "*1 inspect the STASH \n",
        "*2 inspect why there are \"None\"s in the STASH after initialization\n",
        "*2 automate the testing \n",
        "    - record the sequence (accessIdx, treeRoot, Op, blockId, dataN)\n",
        "    - parameterized by N "
      ]
    },
    {
      "cell_type": "code",
      "execution_count": 2632,
      "metadata": {},
      "outputs": [
        {
          "name": "stdout",
          "output_type": "stream",
          "text": [
            "blockID is 13, dataN is \"C\", dataR is \"C\" \n",
            "access # 0 True\n",
            "blockID is 20, dataN is \"P\", dataR is \"\" \n",
            "access # 1 False\n",
            "blockID is 1, dataN is \"H\", dataR is \"H\" \n",
            "access # 2 True\n",
            "blockID is 2, dataN is \"m\", dataR is \"m\" \n",
            "access # 3 True\n",
            "blockID is 1, dataN is \"X\", dataR is \"X\" \n",
            "access # 4 True\n"
          ]
        }
      ],
      "source": [
        "# Another option is to make Operator a list\n",
        "def validRAM(testN, root):\n",
        "    # accesses = []\n",
        "    # index = random.randrange(0,1)\n",
        "    for i in range(testN):\n",
        "        randBlockId = random.randrange(1,N+1)\n",
        "        dataN = random.choice(string.ascii_letters)\n",
        "        dataO = access(root, 'wr', randBlockId, dataN)\n",
        "        dataR = access(root, 'rd', randBlockId, )\n",
        "        print(\"blockID is {}, dataN is \\\"{}\\\", dataR is \\\"{}\\\" \".format(randBlockId, dataN,dataR))\n",
        "        if dataN == dataR:\n",
        "            print(\"access # {} True\".format(i))\n",
        "        else:\n",
        "            print(\"access # {} False\".format(i))\n",
        "validRAM(5,rt)"
      ]
    }
  ],
  "metadata": {
    "colab": {
      "collapsed_sections": [],
      "provenance": []
    },
    "kernelspec": {
      "display_name": "Python 3.8.9 64-bit",
      "language": "python",
      "name": "python3"
    },
    "language_info": {
      "codemirror_mode": {
        "name": "ipython",
        "version": 3
      },
      "file_extension": ".py",
      "mimetype": "text/x-python",
      "name": "python",
      "nbconvert_exporter": "python",
      "pygments_lexer": "ipython3",
      "version": "3.8.9"
    },
    "vscode": {
      "interpreter": {
        "hash": "31f2aee4e71d21fbe5cf8b01ff0e069b9275f58929596ceb00d14d90e3e16cd6"
      }
    }
  },
  "nbformat": 4,
  "nbformat_minor": 0
}
