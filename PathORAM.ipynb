{
  "cells": [
    {
      "cell_type": "code",
      "execution_count": 73,
      "metadata": {
        "colab": {
          "base_uri": "https://localhost:8080/"
        },
        "id": "w5H11CVL-4nX",
        "outputId": "dd24dfbb-2921-4cb0-df71-2f2fb82b0c97"
      },
      "outputs": [],
      "source": [
        "# Path ORAM \n",
        "\n",
        "from collections import defaultdict, Counter, deque\n",
        "from enum import Enum \n",
        "from turtle import update\n",
        "import random\n",
        "import string\n",
        "\n",
        "class Node(object): \n",
        "\tdef __init__(self, ary, idx, left, right): \n",
        "\t\tself.val = ary\n",
        "\t\tself.pt = 0 \n",
        "\t\tself.idx = idx\n",
        "\t\tself.left = left \n",
        "\t\tself.right = right\n",
        "\t\t\n",
        "\tdef __repr__(self):\n",
        "\t\treturn f\"({self.idx},{self.val},{self.left},{self.right})\"\n"
      ]
    },
    {
      "cell_type": "code",
      "execution_count": 74,
      "metadata": {},
      "outputs": [],
      "source": [
        "queue = deque()\n",
        "\n",
        "def buildingPBTLevelOrder_helper(root, nodeidx):\n",
        "    nNode = Node([], nodeidx, None, None) \n",
        "\n",
        "    if queue: \n",
        "        currNode = queue[0]\n",
        "    \n",
        "    if root is None: # if root is given as None\n",
        "        root = nNode\n",
        "    \n",
        "    elif currNode.left == None:\n",
        "        currNode.left = nNode\n",
        "    \n",
        "    elif currNode.right == None:\n",
        "        currNode.right = nNode\n",
        "        queue.popleft()\n",
        "\n",
        "    queue.append(nNode)\n",
        "    return root\n"
      ]
    },
    {
      "cell_type": "code",
      "execution_count": 75,
      "metadata": {},
      "outputs": [
        {
          "name": "stdout",
          "output_type": "stream",
          "text": [
            "(0,[],(1,[],(3,[],(7,[],None,None),(8,[],None,None)),(4,[],(9,[],None,None),(10,[],None,None))),(2,[],(5,[],(11,[],None,None),(12,[],None,None)),(6,[],(13,[],None,None),(14,[],None,None))))\n"
          ]
        }
      ],
      "source": [
        "# constructing a simple binary tree\n",
        "# actually each of the int in the arrary should be a pointer to a block of size B\n",
        "#    0    l0\n",
        "#   /\\\n",
        "#  1  2   l1\n",
        "#  /\\ /\\\n",
        "# 3 4 5 6 l2\n",
        "\n",
        "def buildingPBTLevelOrder(root, lst):\n",
        "    for elem in lst:\n",
        "        root = buildingPBTLevelOrder_helper(root, elem)\n",
        "    return root\n",
        "rt = buildingPBTLevelOrder(None, range(15))\n",
        "print(rt)"
      ]
    },
    {
      "cell_type": "code",
      "execution_count": 76,
      "metadata": {},
      "outputs": [],
      "source": [
        "def buildNodeLevelDict(root, dct, currlevel):\n",
        "    if not root:\n",
        "        return None\n",
        "    \n",
        "    dct[root.idx] = currlevel\n",
        "\n",
        "    nextlevel = currlevel + 1 \n",
        "    buildNodeLevelDict(root.left, dct, nextlevel)\n",
        "    buildNodeLevelDict(root.right, dct, nextlevel)\n",
        "\n",
        "    return dct \n",
        "\n",
        "levelDict = buildNodeLevelDict(rt, {}, 0)\n",
        "# print(levelDict)\n",
        "    "
      ]
    },
    {
      "cell_type": "code",
      "execution_count": 77,
      "metadata": {
        "id": "-XwDMKgw_C1O"
      },
      "outputs": [],
      "source": [
        "def getHeight(root):\n",
        "\t'''\n",
        "\tAssumption: the given tree is a binary tree \n",
        "\tInput: the root node of a tree \n",
        "\tOutput: the height of the tree \n",
        "\t'''\n",
        "\tif not root: \n",
        "\t\treturn 0 \n",
        "\n",
        "\tleftHeight = getHeight(root.left)\n",
        "\trightHeight = getHeight(root.right) \n",
        "\n",
        "\treturn max(leftHeight, rightHeight) + 1 "
      ]
    },
    {
      "cell_type": "code",
      "execution_count": 78,
      "metadata": {
        "id": "GcQZU9n-_Mq0"
      },
      "outputs": [],
      "source": [
        "# Global set up \n",
        "N = 28 \n",
        "\n",
        "# Z numbers of blocks within each bucket\n",
        "Z = 4 \n",
        "StashInit = []\n",
        "LEVELS = getHeight(rt) \n",
        "\n",
        "random.seed(11)\n",
        "position = defaultdict(int, {k:random.randrange(0, (pow(2, LEVELS) - 1)) for k in range(1,N+1)})\n",
        "Operator = ['rd', 'wr']\n",
        "\n",
        "sorted_pos = defaultdict(list)\n",
        "\n",
        "for key,val in position.items():\n",
        "    sorted_pos[val].append(key)\n",
        "    "
      ]
    },
    {
      "cell_type": "code",
      "execution_count": 79,
      "metadata": {
        "colab": {
          "base_uri": "https://localhost:8080/"
        },
        "id": "2cf8W5VW2uor",
        "outputId": "171b79e9-5d89-495b-ee77-be9f9d3fb9f6"
      },
      "outputs": [
        {
          "name": "stdout",
          "output_type": "stream",
          "text": [
            "defaultdict(<class 'int'>, {1: 7, 2: 13, 3: 8, 4: 13, 5: 14, 6: 12, 7: 7, 8: 7, 9: 8, 10: 13, 11: 9, 12: 3, 13: 2, 14: 12, 15: 8, 16: 7, 17: 10, 18: 9, 19: 12, 20: 2, 21: 1, 22: 7, 23: 4, 24: 2, 25: 1, 26: 8, 27: 12, 28: 14})\n",
            "defaultdict(<class 'list'>, {7: [1, 7, 8, 16, 22], 13: [2, 4, 10], 8: [3, 9, 15, 26], 14: [5, 28], 12: [6, 14, 19, 27], 9: [11, 18], 3: [12], 2: [13, 20, 24], 10: [17], 1: [21, 25], 4: [23]})\n"
          ]
        }
      ],
      "source": [
        "print(position)\n",
        "print(sorted_pos)"
      ]
    },
    {
      "cell_type": "code",
      "execution_count": 80,
      "metadata": {},
      "outputs": [],
      "source": [
        "def concat_STASH(stsh, anotherL):\n",
        "    for i in anotherL:\n",
        "        stsh.append(i)\n",
        "    return None "
      ]
    },
    {
      "cell_type": "code",
      "execution_count": 81,
      "metadata": {},
      "outputs": [
        {
          "name": "stdout",
          "output_type": "stream",
          "text": [
            "Before init the stash is \n",
            "[]\n",
            "(0,[],(1,[('', 21), ('', 25)],(3,[('', 12)],(7,[('', 1), ('', 7), ('', 8), ('', 16)],None,None),(8,[('', 3), ('', 9), ('', 15), ('', 26)],None,None)),(4,[('', 23)],(9,[('', 11), ('', 18)],None,None),(10,[('', 17)],None,None))),(2,[('', 13), ('', 20), ('', 24)],(5,[],(11,[],None,None),(12,[('', 6), ('', 14), ('', 19), ('', 27)],None,None)),(6,[],(13,[('', 2), ('', 4), ('', 10)],None,None),(14,[('', 5), ('', 28)],None,None))))\n",
            "After init the stash is \n",
            "[('', 22)]\n"
          ]
        }
      ],
      "source": [
        "def initialize_tree(root, stsh):\n",
        "    if root is None:\n",
        "        return None \n",
        "\n",
        "    data_ = [(\"\", x) for x in sorted_pos[root.idx]]\n",
        "    data = data_[:Z]\n",
        "    concat_STASH(stsh, data_[Z:])\n",
        "    \n",
        "    root.val = data \n",
        "    # root.pt = 0\n",
        "    initialize_tree(root.left, stsh)\n",
        "    initialize_tree(root.right, stsh)\n",
        "    return None\n",
        "print(\"Before init the stash is \")\n",
        "print(StashInit)\n",
        "initialize_tree(rt, StashInit)\n",
        "print(rt)\n",
        "print(\"After init the stash is \")\n",
        "print(StashInit)\n"
      ]
    },
    {
      "cell_type": "code",
      "execution_count": 82,
      "metadata": {
        "id": "HCxk1etDAdih"
      },
      "outputs": [],
      "source": [
        "def getPath(root, NodeId): \n",
        "\t'''\n",
        "\tInput: root(root) node, and leaf node(NodeId)\n",
        "\tOutput: all nodes along the path from leaf node to root node. \n",
        "\t'''\n",
        "\tif not root:\n",
        "\t\treturn []\n",
        "\t\n",
        "\tif root.idx == NodeId:\n",
        "\t\treturn [(root.idx, root.val)] \t\t\n",
        "\t\t# return [(root.idx, root.val, root.pt)] \n",
        "\n",
        "\tleftPath = getPath(root.left, NodeId) \n",
        "\trightPath = getPath(root.right, NodeId)\n",
        " \n",
        "\tif leftPath:\n",
        "\t\treturn leftPath +  [(root.idx, root.val)]\n",
        "\t\t# return leftPath +  [(root.idx, root.val, root.pt)]\n",
        "\tif rightPath: \n",
        "\t\treturn rightPath + [(root.idx, root.val)]\n",
        "\t\t# return rightPath + [(root.idx, root.val, root.pt)]\n",
        "\treturn []"
      ]
    },
    {
      "cell_type": "code",
      "execution_count": 83,
      "metadata": {},
      "outputs": [
        {
          "data": {
            "text/plain": [
              "[(5, []), (2, [('', 13), ('', 20), ('', 24)]), (0, [])]"
            ]
          },
          "execution_count": 83,
          "metadata": {},
          "output_type": "execute_result"
        }
      ],
      "source": [
        "getPath(rt, 5)"
      ]
    },
    {
      "cell_type": "code",
      "execution_count": 84,
      "metadata": {},
      "outputs": [],
      "source": [
        "def clearPath(root, NodeId):\n",
        "    if not root: \n",
        "        return False  \n",
        "        \n",
        "    temp = root.val\n",
        "    root.val = []\n",
        "    if root.idx == NodeId: \n",
        "        return True  \n",
        "    \n",
        "    lp = clearPath(root.left, NodeId)\n",
        "    rp  = clearPath(root.right, NodeId)\n",
        "    \n",
        "    if lp or rp: \n",
        "        return True \n",
        "    \n",
        "    root.val = temp\n",
        "    return False \n"
      ]
    },
    {
      "cell_type": "code",
      "execution_count": 85,
      "metadata": {
        "colab": {
          "base_uri": "https://localhost:8080/",
          "height": 163
        },
        "id": "hDLsQv-Q_oUv",
        "outputId": "117c43d0-8477-41da-aa1a-10ff6370f4e5"
      },
      "outputs": [
        {
          "name": "stdout",
          "output_type": "stream",
          "text": [
            "root val is []\n",
            "root val is [('', 21), ('', 25)]\n",
            "root val is [('', 12)]\n",
            "root val is [('', 1), ('', 7), ('', 8), ('', 16)]\n",
            "root val is [('', 3), ('', 9), ('', 15), ('', 26)]\n",
            "root val is [('', 23)]\n",
            "root val is [('', 11), ('', 18)]\n",
            "root val is [('', 17)]\n",
            "root val is [('', 13), ('', 20), ('', 24)]\n"
          ]
        },
        {
          "data": {
            "text/plain": [
              "''"
            ]
          },
          "execution_count": 85,
          "metadata": {},
          "output_type": "execute_result"
        }
      ],
      "source": [
        "def getDataInBlock(root, blockId):\n",
        "  ''' \n",
        "  Get the data associated with a block ID in a given tree\n",
        "  Input: root of a tree and a block ID\n",
        "  Output: the data associated with the block ID \n",
        "  '''\n",
        "  if root is not None:\n",
        "    print(\"root val is {}\".format(root.val))\n",
        "    for elem in iter(root.val):\n",
        "      if elem[1] == blockId:\n",
        "        # print(\" inside getDataInBlock: elem[1] is {} elem[0] is{}\".format(elem[1],elem[0]))\n",
        "        return elem[0]\n",
        "\n",
        "    lres = getDataInBlock(root.left, blockId)\n",
        "    if lres is not None: \n",
        "      return lres \n",
        "\n",
        "    rres = getDataInBlock(root.right, blockId)\n",
        "    if rres is not None:\n",
        "      return rres\n",
        "\n",
        "getDataInBlock(rt,13)"
      ]
    },
    {
      "cell_type": "code",
      "execution_count": 86,
      "metadata": {},
      "outputs": [],
      "source": [
        "def readBlockFromStsh(stsh, blockID):\n",
        "    if stsh is None: \n",
        "        return None \n",
        "    for elem in stsh:\n",
        "        if elem[1] == blockID:\n",
        "            return elem[0]"
      ]
    },
    {
      "cell_type": "code",
      "execution_count": 87,
      "metadata": {
        "id": "2NdIzMLqyVOl"
      },
      "outputs": [
        {
          "data": {
            "text/plain": [
              "(1, [('', 21), ('', 25)])"
            ]
          },
          "execution_count": 87,
          "metadata": {},
          "output_type": "execute_result"
        }
      ],
      "source": [
        "def getNodeAtLevel(root, leafidx, level):\n",
        "  '''\n",
        "  Input: the root of a tree, the leaf node index, a specific level\n",
        "  Output: the node along the path from a given leaf node to root node at the given level \n",
        "  '''\n",
        "  path = getPath(root, leafidx)\n",
        "  path_len = len(path)\n",
        "  if level > path_len - 1:\n",
        "    return None\n",
        "  return path[path_len-level-1]\n",
        "getNodeAtLevel(rt, 3, 1)"
      ]
    },
    {
      "cell_type": "code",
      "execution_count": 88,
      "metadata": {},
      "outputs": [],
      "source": [
        "def ReadnPopNodes(root, leaf, stsh):\n",
        "    '''\n",
        "    read all of the (block, data) pair along the path from a leaf node to the root node\n",
        "    Input: the root of a tree, a leaf node, and a stash \n",
        "    Output: the updated stash and the updated tree\n",
        "    Thoughts: consider merging getPath() and clearPath() to be the same function since they share the same recursion function. \n",
        "    '''\n",
        "    for l in range(LEVELS):\n",
        "        nd = getNodeAtLevel(root, leaf, l)\n",
        "        # print(\"Inside ReadNodes function ------------------ nd is {} \".format(nd))\n",
        "        if nd is not None:\n",
        "            datum = nd[1] # index 1 of Node nd contains list of data \n",
        "            for elem in datum: \n",
        "                stsh.append(elem)\n",
        "  \n",
        "    clearPath(root, leaf)\n",
        "    return stsh\n"
      ]
    },
    {
      "cell_type": "code",
      "execution_count": 89,
      "metadata": {
        "id": "BR3z5PWbL4TA"
      },
      "outputs": [],
      "source": [
        "def getCandidateBlocksHelper(root, leaf, blockID, level, stsh): \n",
        "\t'''Output: (node.val, node.idx)'''\n",
        "\tlhs = getNodeAtLevel(root, leaf, level)\n",
        "\trhs = getNodeAtLevel(root, position[blockID], level)\n",
        "\tif lhs is not None and rhs is not None:\n",
        "\t\tif lhs == rhs:\n",
        "\t\t\tdata = readBlockFromStsh(stsh, blockID)\n",
        "\t\t\tres = (data, blockID)\n",
        "\t\t\treturn res\n",
        "\t\telse:\n",
        "\t\t\tprint(\"LHS{} and RHS{} not eq according to the creteria $$\".format(lhs[0],rhs[0]))\n",
        "\t\t\treturn None \n",
        "\treturn None"
      ]
    },
    {
      "cell_type": "code",
      "execution_count": 90,
      "metadata": {},
      "outputs": [],
      "source": [
        "def testing(leaf, blockid):\n",
        "    for i in range(3):\n",
        "        print(\"Testing at Level {}\".format(i))\n",
        "        print(getCandidateBlocksHelper(rt, leaf, blockid, i))        "
      ]
    },
    {
      "cell_type": "code",
      "execution_count": 91,
      "metadata": {},
      "outputs": [],
      "source": [
        "def testall(): \n",
        "    for leaf,bucket in sorted_pos.items():\n",
        "        print(\"---------------{}-------------\".format(leaf))\n",
        "        for bid in bucket:\n",
        "            print(\"=========={}===========\".format(bid))\n",
        "            testing(leaf, bid)"
      ]
    },
    {
      "cell_type": "code",
      "execution_count": 92,
      "metadata": {},
      "outputs": [],
      "source": [
        "def getCandidateBlocks(root, leaf, level, stsh): \n",
        "    acc = []\n",
        "    for elem in stsh:\n",
        "        blocks = getCandidateBlocksHelper(root, leaf, elem[1], level, stsh)\n",
        "        acc.append(blocks)\n",
        "    res = [x for x in acc if x is not None]\n",
        "    return res"
      ]
    },
    {
      "cell_type": "code",
      "execution_count": 93,
      "metadata": {},
      "outputs": [],
      "source": [
        "def writeBackNodes(root, leafIdx, tgtlevel, data):\n",
        "    if not root:\n",
        "        return False \n",
        "    \n",
        "    temp = root.val \n",
        "    if levelDict[root.idx] == tgtlevel: \n",
        "        root.val = data\n",
        "    \n",
        "    if root.idx == leafIdx:\n",
        "        return True\n",
        "    \n",
        "    lb = writeBackNodes(root.left, leafIdx, tgtlevel, data)\n",
        "    rb = writeBackNodes(root.right, leafIdx, tgtlevel, data)\n",
        "\n",
        "    if lb or rb: \n",
        "        return True\n",
        "\n",
        "    root.val = temp \n",
        "    return False\n"
      ]
    },
    {
      "cell_type": "markdown",
      "metadata": {},
      "source": [
        "current problem is that the leaf node always get updated. Node leaf is always at the last level, so leaf node should not be assigned to new data, or equivalently, the leaf node should be assgined back to temp, which is the originial data in the node. But under what conditions? "
      ]
    },
    {
      "cell_type": "code",
      "execution_count": 95,
      "metadata": {},
      "outputs": [],
      "source": [
        "def update_STASH(blockID, dataN, stsh):\n",
        "    blockIndex = -1\n",
        "    for (idx, pair) in enumerate(stsh):\n",
        "        temp = list(pair)\n",
        "        if temp[1] == blockID:\n",
        "            blockIndex = idx \n",
        "    if blockIndex != -1: \n",
        "        stsh[blockIndex] = (dataN, blockID)\n",
        "    else:\n",
        "        print(\"not finding the key!!!!!!\")"
      ]
    },
    {
      "cell_type": "code",
      "execution_count": 96,
      "metadata": {},
      "outputs": [],
      "source": [
        "def pop_STASH(stsh, items):\n",
        "    '''\n",
        "    Input: STASH, and list of pairs to be popped \n",
        "    Output: updated STASH \n",
        "    '''\n",
        "    popIds = [] \n",
        "    for item in items:\n",
        "        popIds.append(item[1])\n",
        "    updatedSTASH = [x for x in stsh if x[1] not in popIds]\n",
        "    return updatedSTASH"
      ]
    },
    {
      "cell_type": "code",
      "execution_count": 97,
      "metadata": {},
      "outputs": [],
      "source": [
        "def print_tree_status(status):\n",
        "    print(status +\" tree is \")\n",
        "    print(rt)"
      ]
    },
    {
      "cell_type": "code",
      "execution_count": 98,
      "metadata": {},
      "outputs": [],
      "source": [
        "def getBlockIdsFromLst(lst):\n",
        "    return [x[1] for x in lst]"
      ]
    },
    {
      "cell_type": "code",
      "execution_count": 99,
      "metadata": {
        "id": "ljtKCTZn_QSL"
      },
      "outputs": [],
      "source": [
        "def access(root, opCode, blockId, dataNew=None): \n",
        "\tleafIdx = position[blockId]\n",
        "\tposition[blockId] = random.randrange(0, (pow(2, LEVELS) - 1))\n",
        "\tprint(\"Operating on path identified with leaf {}\".format(leafIdx))\n",
        "\tglobal StashInit\n",
        "\tStashInit = ReadnPopNodes(root, leafIdx, StashInit)\n",
        "\tprint(\"after first reading into the stash is \")\n",
        "\tprint(StashInit)\n",
        "\tprint(\"after first reading, the tree is {}\".format(root))\n",
        "\t# assert blockId in getBlockIdsFromLst(StashInit),\"invariant not upheld!\"\n",
        "\tdataOld = readBlockFromStsh(StashInit, blockId)\n",
        "\tif opCode == \"wr\": \n",
        "\t\t# updateNode = getNodeAtLevel(root, leafIdx, LEVELS - 1)\n",
        "\t\t# print(\"Update Node {}\".format(updateNode))\n",
        "\t\tprint(\" block ID is {}, ids in Stash is {}\".format(blockId, getBlockIdsFromLst(StashInit)))\n",
        "\t\t# assert (blockId in getBlockIdsFromLst(StashInit)), \"BlockID not in StashInit\"\n",
        "\t\tupdate_STASH(blockId, dataNew, StashInit)\n",
        "\tfor l in reversed(range(LEVELS)):\t\t\n",
        "\t\tif len(StashInit) != 0:\n",
        "\t\t\tcandidateBlocks = getCandidateBlocks(root, leafIdx, l, StashInit)\n",
        "\t\t\tif (len(candidateBlocks) >= Z):\n",
        "\t\t\t\twriteBackSize = Z\n",
        "\t\t\telse:\n",
        "\t\t\t\twriteBackSize = len(candidateBlocks)\n",
        "\t\telse:\n",
        "\t\t\tcandidateBlocks = []\n",
        "\t\t\twriteBackSize = 0\n",
        "\t\twriteBackBlocks = candidateBlocks[:writeBackSize] \n",
        "\t\tprint(\"before WB StashInit is {}\".format(StashInit))\n",
        "\t\tprint(\"before WB tree is {}\".format(root))\n",
        "\t\tprint(\"write back blocks are\")\n",
        "\t\tprint(writeBackBlocks)\n",
        "\t\tupdatedSTASH = pop_STASH(StashInit, writeBackBlocks)\n",
        "\t\tprint(\"updated STASH is {}\".format(updatedSTASH))\n",
        "\t\tStashInit = updatedSTASH\n",
        "\t\t# writeBackNode = getNodeAtLevel(root, leafIdx, l)\n",
        "\t\t# if writeBackNode is None: \n",
        "\t\t# \tprint(\">>>>>>>>>>>>>>>>>>>>>>>>>>>>>>>>>>>>>>>>>>>>>>>>>>>>>>>>>>>>YELLING \")\n",
        "\t\t# print(\"writeBackNode is {} at level {} \".format(writeBackNode, l))\n",
        "\t\tprint(\"after WB tree is {}\".format(root))\n",
        "\t\twriteBackNodes(root, leafIdx, 0, l, writeBackBlocks)\n",
        "\treturn dataOld\n",
        "\t"
      ]
    },
    {
      "cell_type": "markdown",
      "metadata": {},
      "source": []
    },
    {
      "cell_type": "markdown",
      "metadata": {},
      "source": [
        "Development notes:\n",
        "*1 inspect the STASH \n",
        "*2 inspect why there are \"None\"s in the STASH after initialization\n",
        "*2 automate the testing \n",
        "    - record the sequence (accessIdx, treeRoot, Op, blockId, dataN)\n",
        "    - parameterized by N "
      ]
    },
    {
      "cell_type": "code",
      "execution_count": 100,
      "metadata": {},
      "outputs": [
        {
          "name": "stdout",
          "output_type": "stream",
          "text": [
            "*****************writing access 0******************\n",
            "Operating on path identified with leaf 4\n",
            "after first reading into the stash is \n",
            "[('', 22), '0', '0', '0', '0', '0', '0', '0', '0', '0', ('', 21), ('', 25), ('', 23)]\n",
            "after first reading, the tree is (0,[],(1,[],(3,[('', 12)],(7,[('', 1), ('', 7), ('', 8), ('', 16)],None,None),(8,[('', 3), ('', 9), ('', 15), ('', 26)],None,None)),(4,[],(9,[('', 11), ('', 18)],None,None),(10,[('', 17)],None,None))),(2,11111111111,(5,55555555555,(11,[],None,None),(12,[('', 6), ('', 14), ('', 19), ('', 27)],None,None)),(6,666666666,(13,[('', 2), ('', 4), ('', 10)],None,None),(14,[('', 5), ('', 28)],None,None))))\n"
          ]
        },
        {
          "ename": "IndexError",
          "evalue": "string index out of range",
          "output_type": "error",
          "traceback": [
            "\u001b[0;31m---------------------------------------------------------------------------\u001b[0m",
            "\u001b[0;31mIndexError\u001b[0m                                Traceback (most recent call last)",
            "Cell \u001b[0;32mIn [100], line 17\u001b[0m\n\u001b[1;32m     15\u001b[0m         \u001b[39melse\u001b[39;00m:\n\u001b[1;32m     16\u001b[0m             \u001b[39mprint\u001b[39m(\u001b[39m\"\u001b[39m\u001b[39maccess # \u001b[39m\u001b[39m{}\u001b[39;00m\u001b[39m False\u001b[39m\u001b[39m\"\u001b[39m\u001b[39m.\u001b[39mformat(i))\n\u001b[0;32m---> 17\u001b[0m validRAM(\u001b[39m30\u001b[39m,rt)\n",
            "Cell \u001b[0;32mIn [100], line 9\u001b[0m, in \u001b[0;36mvalidRAM\u001b[0;34m(testN, root)\u001b[0m\n\u001b[1;32m      7\u001b[0m dataN \u001b[39m=\u001b[39m random\u001b[39m.\u001b[39mchoice(string\u001b[39m.\u001b[39mascii_letters)\n\u001b[1;32m      8\u001b[0m \u001b[39mprint\u001b[39m(\u001b[39m\"\u001b[39m\u001b[39m*****************writing access \u001b[39m\u001b[39m{}\u001b[39;00m\u001b[39m******************\u001b[39m\u001b[39m\"\u001b[39m\u001b[39m.\u001b[39mformat(i))\n\u001b[0;32m----> 9\u001b[0m dataO \u001b[39m=\u001b[39m access(root, \u001b[39m'\u001b[39;49m\u001b[39mwr\u001b[39;49m\u001b[39m'\u001b[39;49m, randBlockId, dataN)\n\u001b[1;32m     10\u001b[0m \u001b[39mprint\u001b[39m(\u001b[39m\"\u001b[39m\u001b[39m*****************reading access \u001b[39m\u001b[39m{}\u001b[39;00m\u001b[39m******************\u001b[39m\u001b[39m\"\u001b[39m\u001b[39m.\u001b[39mformat(i))\n\u001b[1;32m     11\u001b[0m dataR \u001b[39m=\u001b[39m access(root, \u001b[39m'\u001b[39m\u001b[39mrd\u001b[39m\u001b[39m'\u001b[39m, randBlockId, )\n",
            "Cell \u001b[0;32mIn [99], line 11\u001b[0m, in \u001b[0;36maccess\u001b[0;34m(root, opCode, blockId, dataNew)\u001b[0m\n\u001b[1;32m      9\u001b[0m \u001b[39mprint\u001b[39m(\u001b[39m\"\u001b[39m\u001b[39mafter first reading, the tree is \u001b[39m\u001b[39m{}\u001b[39;00m\u001b[39m\"\u001b[39m\u001b[39m.\u001b[39mformat(root))\n\u001b[1;32m     10\u001b[0m \u001b[39m# assert blockId in getBlockIdsFromLst(StashInit),\"invariant not upheld!\"\u001b[39;00m\n\u001b[0;32m---> 11\u001b[0m dataOld \u001b[39m=\u001b[39m readBlockFromStsh(StashInit, blockId)\n\u001b[1;32m     12\u001b[0m \u001b[39mif\u001b[39;00m opCode \u001b[39m==\u001b[39m \u001b[39m\"\u001b[39m\u001b[39mwr\u001b[39m\u001b[39m\"\u001b[39m: \n\u001b[1;32m     13\u001b[0m \t\u001b[39m# updateNode = getNodeAtLevel(root, leafIdx, LEVELS - 1)\u001b[39;00m\n\u001b[1;32m     14\u001b[0m \t\u001b[39m# print(\"Update Node {}\".format(updateNode))\u001b[39;00m\n\u001b[1;32m     15\u001b[0m \t\u001b[39mprint\u001b[39m(\u001b[39m\"\u001b[39m\u001b[39m block ID is \u001b[39m\u001b[39m{}\u001b[39;00m\u001b[39m, ids in Stash is \u001b[39m\u001b[39m{}\u001b[39;00m\u001b[39m\"\u001b[39m\u001b[39m.\u001b[39mformat(blockId, getBlockIdsFromLst(StashInit)))\n",
            "Cell \u001b[0;32mIn [86], line 5\u001b[0m, in \u001b[0;36mreadBlockFromStsh\u001b[0;34m(stsh, blockID)\u001b[0m\n\u001b[1;32m      3\u001b[0m     \u001b[39mreturn\u001b[39;00m \u001b[39mNone\u001b[39;00m \n\u001b[1;32m      4\u001b[0m \u001b[39mfor\u001b[39;00m elem \u001b[39min\u001b[39;00m stsh:\n\u001b[0;32m----> 5\u001b[0m     \u001b[39mif\u001b[39;00m elem[\u001b[39m1\u001b[39;49m] \u001b[39m==\u001b[39m blockID:\n\u001b[1;32m      6\u001b[0m         \u001b[39mreturn\u001b[39;00m elem[\u001b[39m0\u001b[39m]\n",
            "\u001b[0;31mIndexError\u001b[0m: string index out of range"
          ]
        }
      ],
      "source": [
        "# Another option is to make Operator a list\n",
        "def validRAM(testN, root):\n",
        "    # accesses = []\n",
        "    # index = random.randrange(0,1)\n",
        "    for i in range(testN):\n",
        "        randBlockId = random.randrange(1,N+1)\n",
        "        dataN = random.choice(string.ascii_letters)\n",
        "        print(\"*****************writing access {}******************\".format(i))\n",
        "        dataO = access(root, 'wr', randBlockId, dataN)\n",
        "        print(\"*****************reading access {}******************\".format(i))\n",
        "        dataR = access(root, 'rd', randBlockId, )\n",
        "        print(\"blockID is {}, dataN is \\\"{}\\\", dataR is \\\"{}\\\" \".format(randBlockId, dataN,dataR))\n",
        "        if dataN == dataR:\n",
        "            print(\"access # {} True\".format(i))\n",
        "        else:\n",
        "            print(\"access # {} False\".format(i))\n",
        "validRAM(30,rt)"
      ]
    },
    {
      "cell_type": "markdown",
      "metadata": {},
      "source": [
        "assertions \n",
        "weakened version of the main invariant: assert it as either the block lives in the path or the stash. "
      ]
    }
  ],
  "metadata": {
    "colab": {
      "collapsed_sections": [],
      "provenance": []
    },
    "kernelspec": {
      "display_name": "Python 3.8.9 64-bit",
      "language": "python",
      "name": "python3"
    },
    "language_info": {
      "codemirror_mode": {
        "name": "ipython",
        "version": 3
      },
      "file_extension": ".py",
      "mimetype": "text/x-python",
      "name": "python",
      "nbconvert_exporter": "python",
      "pygments_lexer": "ipython3",
      "version": "3.8.9"
    },
    "vscode": {
      "interpreter": {
        "hash": "31f2aee4e71d21fbe5cf8b01ff0e069b9275f58929596ceb00d14d90e3e16cd6"
      }
    }
  },
  "nbformat": 4,
  "nbformat_minor": 0
}
